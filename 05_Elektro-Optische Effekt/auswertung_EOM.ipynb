{
 "cells": [
  {
   "cell_type": "code",
   "metadata": {
    "ExecuteTime": {
     "end_time": "2024-04-23T18:32:54.217740Z",
     "start_time": "2024-04-23T18:32:53.639628Z"
    }
   },
   "source": [
    "import matplotlib.pyplot as plt\n",
    "import numpy as np\n",
    "import pandas as pd\n",
    "import uncertainties as unc\n",
    "from uncertainties import unumpy as unp\n",
    "from scipy.optimize import curve_fit \n"
   ],
   "execution_count": 1,
   "outputs": []
  },
  {
   "cell_type": "code",
   "execution_count": 3,
   "metadata": {},
   "source": [
    "def contrast(Imax, Imin):\n",
    "    return (Imax-Imin)/(Imax+Imin)\n",
    "def exponential(x,a,b):\n",
    "    return a*np.exp(-x*b)\n",
    "contrast_file=pd.read_csv(\"FREQUENCY_CONTRAST.CSV\")\n",
    "contrast_file.head()\n",
    "frequencies=unp.uarray(contrast_file[\"frequency(Hz)\"], [2]*len(contrast_file[\"frequency(Hz)\"]))\n",
    "I_max=unp.uarray(contrast_file[\" Imax(V)\"], [0.1]*len(contrast_file[\" Imax(V)\"]))\n",
    "I_min=unp.uarray(contrast_file[\" Imin(V)\"], [0.1]*len(contrast_file[\" Imin(V)\"]))\n",
    "poptexp, pcovexp=curve_fit(exponential, unp.nominal_values(frequencies), unp.nominal_values(contrast(I_max,I_min)), \\\n",
    "    absolute_sigma='true',sigma=unp.std_devs(contrast(I_max,I_min)), p0=[0.9,0.002])\n",
    "print(poptexp)\n",
    "perrexp = np.sqrt(np.diag(pcovexp))\n",
    "print(perrexp)\n",
    "\n",
    "xfunkexp=np.linspace(0,500,1000)\n",
    "plt.plot(xfunkexp, exponential(xfunkexp, *poptexp), label='Fit')\n",
    "#plt.plot(xfunkexp, exponential(xfunkexp, 0.9,0.002), label='Fit')\n",
    "\n",
    "\n",
    "plt.errorbar(unp.nominal_values(frequencies), unp.nominal_values(contrast(I_max, I_min)),yerr=unp.std_devs(contrast(I_max, I_min)), label='Data points', linestyle='none')\n",
    "plt.xlabel('$f$ (Hz)')\n",
    "plt.ylabel('$K$')\n",
    "plt.text(0, 0.4, 'Fit-Function:\\n$f(x)=A\\cdot exp(-b \\cdot x)$\\n$A$=0.92(2)\\n$b$=0.00177(6) Hz$^{-1}$', fontsize=10, bbox=dict(facecolor='white', alpha=0.5))\n",
    "\n",
    "plt.legend()\n",
    "plt.tight_layout()\n",
    "plt.savefig('contrast_frequency_plot.pdf')\n",
    "print(contrast(I_max,I_min)[0]/2)\n",
    "bandwidth=-unp.log(contrast(I_max,I_min)[0]/(2*poptexp[0]))/poptexp[1]\n",
    "print(bandwidth)"
   ],
   "outputs": []
  },
  {
   "cell_type": "code",
   "metadata": {
    "ExecuteTime": {
     "end_time": "2024-04-23T18:34:35.865057Z",
     "start_time": "2024-04-23T18:34:35.720680Z"
    }
   },
   "source": [
    "#time=pd.read_csv('F0000CH1.CSV', skiprows=18, usecols=[3])\n",
    "#intensity=pd.read_csv('F0000CH1.CSV', skiprows=18, usecols=[4])\n",
    "#voltage=pd.read_csv('F0000CH2.CSV', skiprows=18, usecols=[4])\n",
    "data_ch1=pd.read_csv('data/ALL0000/F0000CH1.CSV', skiprows=18)\n",
    "data_ch2=pd.read_csv('data/ALL0000/F0000CH2.CSV', skiprows=18)\n",
    "time = data_ch1.iloc[:,3 ].values\n",
    "intensity=data_ch1.iloc[:,4].values\n",
    "voltage=data_ch2.iloc[:,4].values\n",
    "\n",
    "\n",
    "plt.scatter(time, intensity, label='Intensity')\n",
    "plt.scatter(time, voltage, label='voltage')\n",
    "plt.xlabel('t')\n",
    "plt.legend()\n",
    "plt.show()"
   ],
   "execution_count": 2,
   "outputs": []
  },
  {
   "metadata": {
    "ExecuteTime": {
     "end_time": "2024-04-23T18:35:43.918717Z",
     "start_time": "2024-04-23T18:35:43.907473Z"
    }
   },
   "cell_type": "code",
   "source": "",
   "execution_count": 8,
   "outputs": []
  },
  {
   "cell_type": "code",
   "metadata": {
    "ExecuteTime": {
     "end_time": "2024-04-23T18:38:44.971318Z",
     "start_time": "2024-04-23T18:38:44.968023Z"
    }
   },
   "source": [
    "arg_min=np.argmin(voltage)\n",
    "arg_max=np.argmax(voltage)\n",
    "#print(time[arg_min], time[arg_max])\n",
    "print(arg_max, arg_min)\n",
    "#print(voltage[arg_min])#\n",
    "print(time[arg_min],time[arg_max] )\n",
    "\n",
    "voltage_period=voltage[arg_min:arg_max+1]\n",
    "intensity_period=intensity[arg_min:arg_max+1]"
   ],
   "execution_count": 11,
   "outputs": []
  },
  {
   "cell_type": "code",
   "metadata": {
    "ExecuteTime": {
     "end_time": "2024-04-23T18:34:40.787266Z",
     "start_time": "2024-04-23T18:34:40.784578Z"
    }
   },
   "source": [
    "# Suchen im Bereich nach dem ersten Minimum bzw. Maximum\n",
    "min_index_2 = np.argmin(voltage[arg_min+1:]) + arg_min + 1\n",
    "#max_index_2 = np.argmax(voltage[arg_max+1:]) + arg_max + 1\n",
    "\n",
    "# Intervall zwischen dem zweiten Minimum und zweiten Maximum bestimmen\n",
    "interval = time[arg_max:min_index_2+1]\n",
    "print(interval)"
   ],
   "execution_count": 4,
   "outputs": []
  },
  {
   "cell_type": "code",
   "metadata": {
    "ExecuteTime": {
     "end_time": "2024-04-23T18:34:43.015892Z",
     "start_time": "2024-04-23T18:34:43.008789Z"
    }
   },
   "source": [
    "\n",
    "\n",
    "def transmission(x,A,phi,b, Vpi):\n",
    "    return A*np.cos(phi-x*np.pi/(2*Vpi))**2+b\n",
    "\n",
    "popt, pcov=curve_fit(transmission, voltage_period, intensity_period, absolute_sigma='false', p0=[9.3,0.6,0.1,2.25 ])\n",
    "\n",
    "#print(popt)\n",
    "#print(pcov)\n",
    "\n",
    "perr = np.sqrt(np.diag(pcov))\n",
    "xfunk=np.linspace(np.min(voltage_period), np.max(voltage_period), 1000)\n",
    "print(popt)\n",
    "print(perr)"
   ],
   "execution_count": 5,
   "outputs": []
  },
  {
   "cell_type": "code",
   "metadata": {
    "ExecuteTime": {
     "end_time": "2024-04-23T18:34:47.338706Z",
     "start_time": "2024-04-23T18:34:46.792474Z"
    }
   },
   "source": [
    "plt.scatter(voltage_period, intensity_period, label='Data points')\n",
    "plt.plot(xfunk, transmission(xfunk, *popt), color='orange' , label='Fit', linewidth=3)\n",
    "plt.ylabel('Intensity (V)')\n",
    "plt.xlabel('$U$ (V)')\n",
    "plt.legend()\n",
    "plt.text(-2.9, 7, 'Fit-Function:\\n$f(x)=A \\cdot cos^2(\\phi-x \\cdot \\pi/(2V_{\\pi}))+b$\\n$A$=8.5(1) V, $\\phi$=0.592(6)\\n$b$=0.59(6) V, $V_{\\pi}$=2.24(1) V', fontsize=10, bbox=dict(facecolor='white', alpha=0.5))\n",
    "plt.xlim(-3,3)\n",
    "plt.tight_layout()\n",
    "plt.savefig(\"voltage_intensity_pi.pdf\")\n",
    "print(popt)"
   ],
   "execution_count": 6,
   "outputs": []
  },
  {
   "metadata": {
    "ExecuteTime": {
     "end_time": "2024-04-23T18:55:22.305372Z",
     "start_time": "2024-04-23T18:55:22.301351Z"
    }
   },
   "cell_type": "code",
   "source": [
    "lam = 633e-9\n",
    "d = 1.8e-3\n",
    "L = 25e-3\n",
    "d*lam/(L*popt[3]*100)"
   ],
   "execution_count": 17,
   "outputs": []
  },
  {
   "cell_type": "code",
   "execution_count": 9,
   "metadata": {},
   "source": [
    "def voltage_pi(File1, File2):\n",
    "    data_ch1=pd.read_csv(File1, skiprows=18)\n",
    "    data_ch2=pd.read_csv(File2, skiprows=18)\n",
    "    time = data_ch1.iloc[:,3 ].values\n",
    "    intensity=data_ch1.iloc[:,4].values\n",
    "    voltage=data_ch2.iloc[:,4].values\n",
    "    arg_min=np.argmin(voltage)\n",
    "    arg_max=np.argmax(voltage)\n",
    "    voltage_period=voltage[arg_min:arg_max+1]\n",
    "    intensity_period=intensity[arg_min:arg_max+1]\n",
    "    popt, pcov=curve_fit(transmission, voltage_period, intensity_period, absolute_sigma='false', p0=[9.3,0.6,0.1,2.25 ])\n",
    "    perr = np.sqrt(np.diag(pcov))\n",
    "    #plt.scatter(voltage_period, intensity_period, label='Data points')\n",
    "    #plt.plot(xfunk, transmission(xfunk, *popt), color='orange' , label='Fit', linewidth=3)\n",
    "    #plt.ylabel('Intensity (V)')\n",
    "    #plt.xlabel('$U$ (V)')\n",
    "    #plt.legend()\n",
    "    #plt.text(-2.9, 7, 'Fit-Function:\\n$f(x)=A \\cdot cos^2(\\phi-x \\cdot \\pi/(2V_{\\pi}))+b$\\n$A$=8.5(1) V, $\\phi$=0.592(6)\\n$b$=0.59(6) V, $V_{\\pi}$=2.24(1) V', fontsize=10, bbox=dict(facecolor='white', alpha=0.5))\n",
    "    #plt.xlim(-3,3)\n",
    "    #plt.tight_layout()\n",
    "    #plt.show()\n",
    "    return popt[3]"
   ],
   "outputs": []
  },
  {
   "cell_type": "code",
   "execution_count": 27,
   "metadata": {},
   "source": [
    "volt_pi1=voltage_pi(\"F0000CH1.CSV\", \"F0000CH2.CSV\")\n",
    "volt_pi2=voltage_pi(\"F0001CH1.CSV\", \"F0001CH2.CSV\")\n",
    "volt_pi3=voltage_pi(\"F0002CH1.CSV\", \"F0002CH2.CSV\")\n",
    "#print(unp.nominal_values(volt_pi1))\n",
    "volts_pi=[volt_pi1, volt_pi2, volt_pi3]\n",
    "print(volts_pi)\n",
    "\n",
    "volt_pi_mean=np.mean(volts_pi)\n",
    "volt_pi_dev=np.std(volts_pi)\n",
    "print(volt_pi_mean)\n",
    "print(volt_pi_dev)\n",
    "#volt_Pi_mean=np.mean(unp.nominal_values(volt_pi1), unp.nominal_values(volt_pi2), unp.nominal_values(volt_pi3))\n",
    "#volt_Pi_dev=np.mean(volt_pi1, volt_pi2, volt_pi3)\n",
    "#print(volt_Pi_mean, volt_Pi_dev)\n",
    "volt_pi_end=unc.ufloat(volt_pi_mean, volt_pi_dev)\n",
    "print(\"hallo\",volt_pi_end)\n",
    "d=unc.ufloat(0.18,0.01)\n",
    "l=unc.ufloat(2.455, 0.01)\n",
    "lambda0=6.33e-05\n",
    "factor=lambda0*d/(volt_pi_end*l*100)\n",
    "print(factor)"
   ],
   "outputs": []
  },
  {
   "cell_type": "code",
   "execution_count": 12,
   "metadata": {},
   "source": [
    "data_ch1=pd.read_csv('TEK00000_C.CSV', skiprows=16)\n",
    "#data_ch2=pd.read_csv('F0000CH2.CSV', skiprows=18)\n",
    "time = data_ch1.iloc[:,0 ].values\n",
    "intensity=data_ch1.iloc[:,1].values\n",
    "voltage=data_ch1.iloc[:,2].values\n",
    "\n",
    "\n",
    "plt.scatter(time, intensity, label='Intensity')\n",
    "plt.scatter(time, voltage, label='voltage')\n",
    "plt.xlabel('t')\n",
    "plt.legend()\n",
    "plt.show()"
   ],
   "outputs": []
  },
  {
   "cell_type": "code",
   "execution_count": 22,
   "metadata": {},
   "source": [
    "arg_min=np.argmin(voltage)\n",
    "arg_max=np.argmax(voltage)\n",
    "#print(time[arg_min], time[arg_max])\n",
    "print(arg_max, arg_min)\n",
    "#print(voltage[arg_min])#\n",
    "#print(time[arg_min],time[arg_max] )\n",
    "print(len(voltage))\n",
    "print(len(intensity))\n",
    "voltage_period=voltage[arg_min:arg_max+1]\n",
    "intensity_period=intensity[arg_min:arg_max+1]\n",
    "print(voltage_period)\n",
    "print(intensity_period)\n",
    "popt, pcov=curve_fit(transmission, voltage, intensity, absolute_sigma='false', p0=[9.3,0.6,0.1,2.25 ])\n",
    "\n",
    "#print(popt)\n",
    "#print(pcov)\n",
    "\n",
    "perr = np.sqrt(np.diag(pcov))\n",
    "xfunk=np.linspace(np.min(voltage), np.max(voltage), 1000)\n",
    "print(popt)\n",
    "print(perr)\n",
    "\n",
    "plt.scatter(voltage, intensity, label='Data points')\n",
    "plt.plot(xfunk, transmission(xfunk, *popt), color='orange' , label='Fit', linewidth=3)\n",
    "plt.ylabel('Intensity (V)')\n",
    "plt.xlabel('$U$ (V)')\n",
    "plt.legend()\n",
    "#plt.text(-2.9, 7, 'Fit-Function:\\n$f(x)=A \\cdot cos^2(\\phi-x \\cdot \\pi/(2V_{\\pi}))+b$\\n$A$=8.5(1) V, $\\phi$=0.592(6)\\n$b$=0.59(6) V, $V_{\\pi}$=2.24(1) V', fontsize=10, bbox=dict(facecolor='white', alpha=0.5))\n",
    "#plt.xlim(-3,3)\n",
    "plt.tight_layout()\n",
    "plt.savefig(\"voltage_intensity_pi.pdf\")\n",
    "print(popt)"
   ],
   "outputs": []
  }
 ],
 "metadata": {
  "kernelspec": {
   "display_name": "Python 3",
   "language": "python",
   "name": "python3"
  },
  "language_info": {
   "codemirror_mode": {
    "name": "ipython",
    "version": 3
   },
   "file_extension": ".py",
   "mimetype": "text/x-python",
   "name": "python",
   "nbconvert_exporter": "python",
   "pygments_lexer": "ipython3",
   "version": "3.10.11"
  }
 },
 "nbformat": 4,
 "nbformat_minor": 2
}
