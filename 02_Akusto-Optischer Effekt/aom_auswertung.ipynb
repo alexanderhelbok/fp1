{
 "cells": [
  {
   "cell_type": "code",
   "execution_count": 1,
   "metadata": {},
   "outputs": [],
   "source": [
    "import pandas as pd\n",
    "import matplotlib.pyplot as plt\n",
    "import numpy as np\n",
    "import uncertainties as u\n",
    "import uncertainties.unumpy as unp \n",
    "import math as m\n",
    "import scipy as sc\n",
    "from scipy.special import sinc\n",
    "import matplotlib as mpl\n",
    "\n",
    "plt.style.use(\"Source.mplstyle\")\n",
    "\n",
    "plt.rc(\"text\", usetex=True)  # enable use of LaTeX in matplotlib\n",
    "plt.rc(\"font\", family=\"sans-serif\", serif=\"Times New Roman\", size=14)  # font settings\n",
    "plt.rc(\"text.latex\", preamble=\"\\\\usepackage{mtpro2} \\\\usepackage{siunitx} \\\\usepackage{amsmath}\")\n",
    "plt.rcParams[\"pgf.texsystem\"] = \"xelatex\"\n"
   ]
  },
  {
   "cell_type": "markdown",
   "metadata": {},
   "source": [
    "# 1 bragg angle"
   ]
  },
  {
   "cell_type": "code",
   "execution_count": 2,
   "metadata": {},
   "outputs": [
    {
     "name": "stdout",
     "output_type": "stream",
     "text": [
      "61.2+/-1.0\n",
      "6.5+/-0.8 mrad ist der bragg winkel\n"
     ]
    }
   ],
   "source": [
    "d1=u.ufloat(9.1, 0.2)\n",
    "d2=u.ufloat(15.1, 0.2)\n",
    "d3=u.ufloat(37,1)\n",
    "d=d1+d2+d3\n",
    "print(d)\n",
    "difference_a=u.ufloat(0.8,0.1)\n",
    "\n",
    "bragg_angle=unp.arctan(difference_a/(2*d))\n",
    "print(bragg_angle*1000 ,\"mrad ist der bragg winkel\")"
   ]
  },
  {
   "cell_type": "markdown",
   "metadata": {},
   "source": [
    "# 2 intensity dependence and saturation power"
   ]
  },
  {
   "cell_type": "code",
   "execution_count": 3,
   "metadata": {},
   "outputs": [
    {
     "name": "stdout",
     "output_type": "stream",
     "text": [
      "insertion loss 0.098+/-0.008\n"
     ]
    }
   ],
   "source": [
    "P0_before=u.ufloat(0.877,0.005)\n",
    "P0_after=u.ufloat(0.791,0.005)\n",
    "\n",
    "IL=1-P0_after/P0_before\n",
    "print(\"insertion loss\", IL)"
   ]
  },
  {
   "cell_type": "code",
   "execution_count": 28,
   "metadata": {},
   "outputs": [
    {
     "name": "stdout",
     "output_type": "stream",
     "text": [
      "[2.50145725e-06]\n",
      "[7.61425751e-07]\n",
      "[2.50145725e-06]\n"
     ]
    },
    {
     "name": "stderr",
     "output_type": "stream",
     "text": [
      "/tmp/ipykernel_10217/1328878215.py:36: UserWarning: FigureCanvasPgf is non-interactive, and thus cannot be shown\n",
      "  plt.show()\n"
     ]
    }
   ],
   "source": [
    "# umrechnungstabelle=pd.read_csv(\"umrechnung.csv\")\n",
    "umrechnungstabelle=pd.read_csv(\"data/data0.csv\")\n",
    "umrechnungstabelle.columns=[\"dB\", \"mvpp\", \"mW\"]\n",
    "def expfunktion(x,a):\n",
    "    return a*x**2\n",
    "\n",
    "mpl.use(\"pgf\")\n",
    "# mpl.use(\"tkAgg\")\n",
    "\n",
    "x = np.linspace(0, 900, 1000)\n",
    "\n",
    "popt_umrechnung, pcov=sc.optimize.curve_fit(expfunktion, umrechnungstabelle[\"mvpp\"], umrechnungstabelle['mW'],  absolute_sigma='false', p0=[2.5e-6])\n",
    "\n",
    "fig, ax = plt.subplots(figsize=(7, 4.5))\n",
    "ax.scatter(umrechnungstabelle[\"mvpp\"], umrechnungstabelle['mW'], s=20, label='Datapoints from instruction table', zorder=0)\n",
    "xlim, ylim = ax.get_xlim(), ax.get_ylim()\n",
    "ax.plot(x, expfunktion(x, *popt_umrechnung), c=\"C1\", label=\"Fit\", zorder=0)\n",
    "\n",
    "rect = mpl.patches.FancyBboxPatch((0.1, 0.38), 0.37, 0.12, linewidth=1.5, edgecolor=\"C1\", facecolor=\"none\", transform=ax.transAxes, boxstyle=mpl.patches.BoxStyle(\"Round\", pad=0.02))\n",
    "ax.add_patch(rect)\n",
    "\n",
    "ax.text(0.1, 0.5, '$f(x)=ax^2$\\n$a = 2.501(3) \\cdot 10^{-6}\\ \\mathrm{mW/mVpp}^2$', fontsize=12, verticalalignment='top', transform=ax.transAxes)\n",
    "\n",
    "ax.set_xlim(xlim)\n",
    "ax.set_ylim(ylim)\n",
    "\n",
    "plt.xlabel(\"$U_\\mathrm{pp}\\,\\, (\\mathrm{mVpp})$\")\n",
    "plt.ylabel(\"$P_\\mathrm{RF}\\ (\\mathrm{mW})$\")\n",
    "\n",
    "plt.legend()\n",
    "plt.tight_layout()\n",
    "plt.savefig(\"bilder/umrechnung.pdf\", bbox_inches=\"tight\")\n",
    "print(popt_umrechnung)\n",
    "print((np.sqrt(np.diag(pcov))))\n",
    "\n",
    "plt.show()\n",
    "def transform_pp_tomW(mvpp):\n",
    "    return expfunktion(mvpp, *popt_umrechnung)*2000\n",
    "print(popt_umrechnung)"
   ]
  },
  {
   "cell_type": "code",
   "execution_count": 6,
   "metadata": {},
   "outputs": [
    {
     "ename": "FileNotFoundError",
     "evalue": "[Errno 2] No such file or directory: 'data1.csv'",
     "output_type": "error",
     "traceback": [
      "\u001b[0;31m---------------------------------------------------------------------------\u001b[0m",
      "\u001b[0;31mFileNotFoundError\u001b[0m                         Traceback (most recent call last)",
      "Cell \u001b[0;32mIn[6], line 4\u001b[0m\n\u001b[1;32m      1\u001b[0m \u001b[38;5;28;01mdef\u001b[39;00m \u001b[38;5;21mepsilon2\u001b[39m(P_RF,a,P_SAT,b):\n\u001b[1;32m      2\u001b[0m     \u001b[38;5;28;01mreturn\u001b[39;00m a\u001b[38;5;241m*\u001b[39m np\u001b[38;5;241m.\u001b[39msin(np\u001b[38;5;241m.\u001b[39mpi\u001b[38;5;241m/\u001b[39m\u001b[38;5;241m2\u001b[39m\u001b[38;5;241m*\u001b[39mnp\u001b[38;5;241m.\u001b[39msqrt((P_RF \u001b[38;5;241m-\u001b[39m b)\u001b[38;5;241m/\u001b[39mP_SAT))\u001b[38;5;241m*\u001b[39m\u001b[38;5;241m*\u001b[39m\u001b[38;5;241m2\u001b[39m\n\u001b[0;32m----> 4\u001b[0m daten_a\u001b[38;5;241m=\u001b[39m\u001b[43mpd\u001b[49m\u001b[38;5;241;43m.\u001b[39;49m\u001b[43mread_csv\u001b[49m\u001b[43m(\u001b[49m\u001b[38;5;124;43m\"\u001b[39;49m\u001b[38;5;124;43mdata1.csv\u001b[39;49m\u001b[38;5;124;43m\"\u001b[39;49m\u001b[43m)\u001b[49m\n\u001b[1;32m      6\u001b[0m \u001b[38;5;28mprint\u001b[39m(transform_pp_tomW(\u001b[38;5;241m0.00318\u001b[39m)\u001b[38;5;241m/\u001b[39mnp\u001b[38;5;241m.\u001b[39mpi\u001b[38;5;241m/\u001b[39m\u001b[38;5;241m2\u001b[39m)\n\u001b[1;32m      8\u001b[0m daten_a_mW\u001b[38;5;241m=\u001b[39mtransform_pp_tomW(daten_a[\u001b[38;5;124m\"\u001b[39m\u001b[38;5;124mmVPP\u001b[39m\u001b[38;5;124m\"\u001b[39m])\n",
      "File \u001b[0;32m/usr/lib/python3.11/site-packages/pandas/util/_decorators.py:211\u001b[0m, in \u001b[0;36mdeprecate_kwarg.<locals>._deprecate_kwarg.<locals>.wrapper\u001b[0;34m(*args, **kwargs)\u001b[0m\n\u001b[1;32m    209\u001b[0m     \u001b[38;5;28;01melse\u001b[39;00m:\n\u001b[1;32m    210\u001b[0m         kwargs[new_arg_name] \u001b[38;5;241m=\u001b[39m new_arg_value\n\u001b[0;32m--> 211\u001b[0m \u001b[38;5;28;01mreturn\u001b[39;00m \u001b[43mfunc\u001b[49m\u001b[43m(\u001b[49m\u001b[38;5;241;43m*\u001b[39;49m\u001b[43margs\u001b[49m\u001b[43m,\u001b[49m\u001b[43m \u001b[49m\u001b[38;5;241;43m*\u001b[39;49m\u001b[38;5;241;43m*\u001b[39;49m\u001b[43mkwargs\u001b[49m\u001b[43m)\u001b[49m\n",
      "File \u001b[0;32m/usr/lib/python3.11/site-packages/pandas/util/_decorators.py:331\u001b[0m, in \u001b[0;36mdeprecate_nonkeyword_arguments.<locals>.decorate.<locals>.wrapper\u001b[0;34m(*args, **kwargs)\u001b[0m\n\u001b[1;32m    325\u001b[0m \u001b[38;5;28;01mif\u001b[39;00m \u001b[38;5;28mlen\u001b[39m(args) \u001b[38;5;241m>\u001b[39m num_allow_args:\n\u001b[1;32m    326\u001b[0m     warnings\u001b[38;5;241m.\u001b[39mwarn(\n\u001b[1;32m    327\u001b[0m         msg\u001b[38;5;241m.\u001b[39mformat(arguments\u001b[38;5;241m=\u001b[39m_format_argument_list(allow_args)),\n\u001b[1;32m    328\u001b[0m         \u001b[38;5;167;01mFutureWarning\u001b[39;00m,\n\u001b[1;32m    329\u001b[0m         stacklevel\u001b[38;5;241m=\u001b[39mfind_stack_level(),\n\u001b[1;32m    330\u001b[0m     )\n\u001b[0;32m--> 331\u001b[0m \u001b[38;5;28;01mreturn\u001b[39;00m \u001b[43mfunc\u001b[49m\u001b[43m(\u001b[49m\u001b[38;5;241;43m*\u001b[39;49m\u001b[43margs\u001b[49m\u001b[43m,\u001b[49m\u001b[43m \u001b[49m\u001b[38;5;241;43m*\u001b[39;49m\u001b[38;5;241;43m*\u001b[39;49m\u001b[43mkwargs\u001b[49m\u001b[43m)\u001b[49m\n",
      "File \u001b[0;32m/usr/lib/python3.11/site-packages/pandas/io/parsers/readers.py:950\u001b[0m, in \u001b[0;36mread_csv\u001b[0;34m(filepath_or_buffer, sep, delimiter, header, names, index_col, usecols, squeeze, prefix, mangle_dupe_cols, dtype, engine, converters, true_values, false_values, skipinitialspace, skiprows, skipfooter, nrows, na_values, keep_default_na, na_filter, verbose, skip_blank_lines, parse_dates, infer_datetime_format, keep_date_col, date_parser, dayfirst, cache_dates, iterator, chunksize, compression, thousands, decimal, lineterminator, quotechar, quoting, doublequote, escapechar, comment, encoding, encoding_errors, dialect, error_bad_lines, warn_bad_lines, on_bad_lines, delim_whitespace, low_memory, memory_map, float_precision, storage_options)\u001b[0m\n\u001b[1;32m    935\u001b[0m kwds_defaults \u001b[38;5;241m=\u001b[39m _refine_defaults_read(\n\u001b[1;32m    936\u001b[0m     dialect,\n\u001b[1;32m    937\u001b[0m     delimiter,\n\u001b[0;32m   (...)\u001b[0m\n\u001b[1;32m    946\u001b[0m     defaults\u001b[38;5;241m=\u001b[39m{\u001b[38;5;124m\"\u001b[39m\u001b[38;5;124mdelimiter\u001b[39m\u001b[38;5;124m\"\u001b[39m: \u001b[38;5;124m\"\u001b[39m\u001b[38;5;124m,\u001b[39m\u001b[38;5;124m\"\u001b[39m},\n\u001b[1;32m    947\u001b[0m )\n\u001b[1;32m    948\u001b[0m kwds\u001b[38;5;241m.\u001b[39mupdate(kwds_defaults)\n\u001b[0;32m--> 950\u001b[0m \u001b[38;5;28;01mreturn\u001b[39;00m \u001b[43m_read\u001b[49m\u001b[43m(\u001b[49m\u001b[43mfilepath_or_buffer\u001b[49m\u001b[43m,\u001b[49m\u001b[43m \u001b[49m\u001b[43mkwds\u001b[49m\u001b[43m)\u001b[49m\n",
      "File \u001b[0;32m/usr/lib/python3.11/site-packages/pandas/io/parsers/readers.py:605\u001b[0m, in \u001b[0;36m_read\u001b[0;34m(filepath_or_buffer, kwds)\u001b[0m\n\u001b[1;32m    602\u001b[0m _validate_names(kwds\u001b[38;5;241m.\u001b[39mget(\u001b[38;5;124m\"\u001b[39m\u001b[38;5;124mnames\u001b[39m\u001b[38;5;124m\"\u001b[39m, \u001b[38;5;28;01mNone\u001b[39;00m))\n\u001b[1;32m    604\u001b[0m \u001b[38;5;66;03m# Create the parser.\u001b[39;00m\n\u001b[0;32m--> 605\u001b[0m parser \u001b[38;5;241m=\u001b[39m \u001b[43mTextFileReader\u001b[49m\u001b[43m(\u001b[49m\u001b[43mfilepath_or_buffer\u001b[49m\u001b[43m,\u001b[49m\u001b[43m \u001b[49m\u001b[38;5;241;43m*\u001b[39;49m\u001b[38;5;241;43m*\u001b[39;49m\u001b[43mkwds\u001b[49m\u001b[43m)\u001b[49m\n\u001b[1;32m    607\u001b[0m \u001b[38;5;28;01mif\u001b[39;00m chunksize \u001b[38;5;129;01mor\u001b[39;00m iterator:\n\u001b[1;32m    608\u001b[0m     \u001b[38;5;28;01mreturn\u001b[39;00m parser\n",
      "File \u001b[0;32m/usr/lib/python3.11/site-packages/pandas/io/parsers/readers.py:1442\u001b[0m, in \u001b[0;36mTextFileReader.__init__\u001b[0;34m(self, f, engine, **kwds)\u001b[0m\n\u001b[1;32m   1439\u001b[0m     \u001b[38;5;28mself\u001b[39m\u001b[38;5;241m.\u001b[39moptions[\u001b[38;5;124m\"\u001b[39m\u001b[38;5;124mhas_index_names\u001b[39m\u001b[38;5;124m\"\u001b[39m] \u001b[38;5;241m=\u001b[39m kwds[\u001b[38;5;124m\"\u001b[39m\u001b[38;5;124mhas_index_names\u001b[39m\u001b[38;5;124m\"\u001b[39m]\n\u001b[1;32m   1441\u001b[0m \u001b[38;5;28mself\u001b[39m\u001b[38;5;241m.\u001b[39mhandles: IOHandles \u001b[38;5;241m|\u001b[39m \u001b[38;5;28;01mNone\u001b[39;00m \u001b[38;5;241m=\u001b[39m \u001b[38;5;28;01mNone\u001b[39;00m\n\u001b[0;32m-> 1442\u001b[0m \u001b[38;5;28mself\u001b[39m\u001b[38;5;241m.\u001b[39m_engine \u001b[38;5;241m=\u001b[39m \u001b[38;5;28;43mself\u001b[39;49m\u001b[38;5;241;43m.\u001b[39;49m\u001b[43m_make_engine\u001b[49m\u001b[43m(\u001b[49m\u001b[43mf\u001b[49m\u001b[43m,\u001b[49m\u001b[43m \u001b[49m\u001b[38;5;28;43mself\u001b[39;49m\u001b[38;5;241;43m.\u001b[39;49m\u001b[43mengine\u001b[49m\u001b[43m)\u001b[49m\n",
      "File \u001b[0;32m/usr/lib/python3.11/site-packages/pandas/io/parsers/readers.py:1735\u001b[0m, in \u001b[0;36mTextFileReader._make_engine\u001b[0;34m(self, f, engine)\u001b[0m\n\u001b[1;32m   1733\u001b[0m     \u001b[38;5;28;01mif\u001b[39;00m \u001b[38;5;124m\"\u001b[39m\u001b[38;5;124mb\u001b[39m\u001b[38;5;124m\"\u001b[39m \u001b[38;5;129;01mnot\u001b[39;00m \u001b[38;5;129;01min\u001b[39;00m mode:\n\u001b[1;32m   1734\u001b[0m         mode \u001b[38;5;241m+\u001b[39m\u001b[38;5;241m=\u001b[39m \u001b[38;5;124m\"\u001b[39m\u001b[38;5;124mb\u001b[39m\u001b[38;5;124m\"\u001b[39m\n\u001b[0;32m-> 1735\u001b[0m \u001b[38;5;28mself\u001b[39m\u001b[38;5;241m.\u001b[39mhandles \u001b[38;5;241m=\u001b[39m \u001b[43mget_handle\u001b[49m\u001b[43m(\u001b[49m\n\u001b[1;32m   1736\u001b[0m \u001b[43m    \u001b[49m\u001b[43mf\u001b[49m\u001b[43m,\u001b[49m\n\u001b[1;32m   1737\u001b[0m \u001b[43m    \u001b[49m\u001b[43mmode\u001b[49m\u001b[43m,\u001b[49m\n\u001b[1;32m   1738\u001b[0m \u001b[43m    \u001b[49m\u001b[43mencoding\u001b[49m\u001b[38;5;241;43m=\u001b[39;49m\u001b[38;5;28;43mself\u001b[39;49m\u001b[38;5;241;43m.\u001b[39;49m\u001b[43moptions\u001b[49m\u001b[38;5;241;43m.\u001b[39;49m\u001b[43mget\u001b[49m\u001b[43m(\u001b[49m\u001b[38;5;124;43m\"\u001b[39;49m\u001b[38;5;124;43mencoding\u001b[39;49m\u001b[38;5;124;43m\"\u001b[39;49m\u001b[43m,\u001b[49m\u001b[43m \u001b[49m\u001b[38;5;28;43;01mNone\u001b[39;49;00m\u001b[43m)\u001b[49m\u001b[43m,\u001b[49m\n\u001b[1;32m   1739\u001b[0m \u001b[43m    \u001b[49m\u001b[43mcompression\u001b[49m\u001b[38;5;241;43m=\u001b[39;49m\u001b[38;5;28;43mself\u001b[39;49m\u001b[38;5;241;43m.\u001b[39;49m\u001b[43moptions\u001b[49m\u001b[38;5;241;43m.\u001b[39;49m\u001b[43mget\u001b[49m\u001b[43m(\u001b[49m\u001b[38;5;124;43m\"\u001b[39;49m\u001b[38;5;124;43mcompression\u001b[39;49m\u001b[38;5;124;43m\"\u001b[39;49m\u001b[43m,\u001b[49m\u001b[43m \u001b[49m\u001b[38;5;28;43;01mNone\u001b[39;49;00m\u001b[43m)\u001b[49m\u001b[43m,\u001b[49m\n\u001b[1;32m   1740\u001b[0m \u001b[43m    \u001b[49m\u001b[43mmemory_map\u001b[49m\u001b[38;5;241;43m=\u001b[39;49m\u001b[38;5;28;43mself\u001b[39;49m\u001b[38;5;241;43m.\u001b[39;49m\u001b[43moptions\u001b[49m\u001b[38;5;241;43m.\u001b[39;49m\u001b[43mget\u001b[49m\u001b[43m(\u001b[49m\u001b[38;5;124;43m\"\u001b[39;49m\u001b[38;5;124;43mmemory_map\u001b[39;49m\u001b[38;5;124;43m\"\u001b[39;49m\u001b[43m,\u001b[49m\u001b[43m \u001b[49m\u001b[38;5;28;43;01mFalse\u001b[39;49;00m\u001b[43m)\u001b[49m\u001b[43m,\u001b[49m\n\u001b[1;32m   1741\u001b[0m \u001b[43m    \u001b[49m\u001b[43mis_text\u001b[49m\u001b[38;5;241;43m=\u001b[39;49m\u001b[43mis_text\u001b[49m\u001b[43m,\u001b[49m\n\u001b[1;32m   1742\u001b[0m \u001b[43m    \u001b[49m\u001b[43merrors\u001b[49m\u001b[38;5;241;43m=\u001b[39;49m\u001b[38;5;28;43mself\u001b[39;49m\u001b[38;5;241;43m.\u001b[39;49m\u001b[43moptions\u001b[49m\u001b[38;5;241;43m.\u001b[39;49m\u001b[43mget\u001b[49m\u001b[43m(\u001b[49m\u001b[38;5;124;43m\"\u001b[39;49m\u001b[38;5;124;43mencoding_errors\u001b[39;49m\u001b[38;5;124;43m\"\u001b[39;49m\u001b[43m,\u001b[49m\u001b[43m \u001b[49m\u001b[38;5;124;43m\"\u001b[39;49m\u001b[38;5;124;43mstrict\u001b[39;49m\u001b[38;5;124;43m\"\u001b[39;49m\u001b[43m)\u001b[49m\u001b[43m,\u001b[49m\n\u001b[1;32m   1743\u001b[0m \u001b[43m    \u001b[49m\u001b[43mstorage_options\u001b[49m\u001b[38;5;241;43m=\u001b[39;49m\u001b[38;5;28;43mself\u001b[39;49m\u001b[38;5;241;43m.\u001b[39;49m\u001b[43moptions\u001b[49m\u001b[38;5;241;43m.\u001b[39;49m\u001b[43mget\u001b[49m\u001b[43m(\u001b[49m\u001b[38;5;124;43m\"\u001b[39;49m\u001b[38;5;124;43mstorage_options\u001b[39;49m\u001b[38;5;124;43m\"\u001b[39;49m\u001b[43m,\u001b[49m\u001b[43m \u001b[49m\u001b[38;5;28;43;01mNone\u001b[39;49;00m\u001b[43m)\u001b[49m\u001b[43m,\u001b[49m\n\u001b[1;32m   1744\u001b[0m \u001b[43m\u001b[49m\u001b[43m)\u001b[49m\n\u001b[1;32m   1745\u001b[0m \u001b[38;5;28;01massert\u001b[39;00m \u001b[38;5;28mself\u001b[39m\u001b[38;5;241m.\u001b[39mhandles \u001b[38;5;129;01mis\u001b[39;00m \u001b[38;5;129;01mnot\u001b[39;00m \u001b[38;5;28;01mNone\u001b[39;00m\n\u001b[1;32m   1746\u001b[0m f \u001b[38;5;241m=\u001b[39m \u001b[38;5;28mself\u001b[39m\u001b[38;5;241m.\u001b[39mhandles\u001b[38;5;241m.\u001b[39mhandle\n",
      "File \u001b[0;32m/usr/lib/python3.11/site-packages/pandas/io/common.py:856\u001b[0m, in \u001b[0;36mget_handle\u001b[0;34m(path_or_buf, mode, encoding, compression, memory_map, is_text, errors, storage_options)\u001b[0m\n\u001b[1;32m    851\u001b[0m \u001b[38;5;28;01melif\u001b[39;00m \u001b[38;5;28misinstance\u001b[39m(handle, \u001b[38;5;28mstr\u001b[39m):\n\u001b[1;32m    852\u001b[0m     \u001b[38;5;66;03m# Check whether the filename is to be opened in binary mode.\u001b[39;00m\n\u001b[1;32m    853\u001b[0m     \u001b[38;5;66;03m# Binary mode does not support 'encoding' and 'newline'.\u001b[39;00m\n\u001b[1;32m    854\u001b[0m     \u001b[38;5;28;01mif\u001b[39;00m ioargs\u001b[38;5;241m.\u001b[39mencoding \u001b[38;5;129;01mand\u001b[39;00m \u001b[38;5;124m\"\u001b[39m\u001b[38;5;124mb\u001b[39m\u001b[38;5;124m\"\u001b[39m \u001b[38;5;129;01mnot\u001b[39;00m \u001b[38;5;129;01min\u001b[39;00m ioargs\u001b[38;5;241m.\u001b[39mmode:\n\u001b[1;32m    855\u001b[0m         \u001b[38;5;66;03m# Encoding\u001b[39;00m\n\u001b[0;32m--> 856\u001b[0m         handle \u001b[38;5;241m=\u001b[39m \u001b[38;5;28;43mopen\u001b[39;49m\u001b[43m(\u001b[49m\n\u001b[1;32m    857\u001b[0m \u001b[43m            \u001b[49m\u001b[43mhandle\u001b[49m\u001b[43m,\u001b[49m\n\u001b[1;32m    858\u001b[0m \u001b[43m            \u001b[49m\u001b[43mioargs\u001b[49m\u001b[38;5;241;43m.\u001b[39;49m\u001b[43mmode\u001b[49m\u001b[43m,\u001b[49m\n\u001b[1;32m    859\u001b[0m \u001b[43m            \u001b[49m\u001b[43mencoding\u001b[49m\u001b[38;5;241;43m=\u001b[39;49m\u001b[43mioargs\u001b[49m\u001b[38;5;241;43m.\u001b[39;49m\u001b[43mencoding\u001b[49m\u001b[43m,\u001b[49m\n\u001b[1;32m    860\u001b[0m \u001b[43m            \u001b[49m\u001b[43merrors\u001b[49m\u001b[38;5;241;43m=\u001b[39;49m\u001b[43merrors\u001b[49m\u001b[43m,\u001b[49m\n\u001b[1;32m    861\u001b[0m \u001b[43m            \u001b[49m\u001b[43mnewline\u001b[49m\u001b[38;5;241;43m=\u001b[39;49m\u001b[38;5;124;43m\"\u001b[39;49m\u001b[38;5;124;43m\"\u001b[39;49m\u001b[43m,\u001b[49m\n\u001b[1;32m    862\u001b[0m \u001b[43m        \u001b[49m\u001b[43m)\u001b[49m\n\u001b[1;32m    863\u001b[0m     \u001b[38;5;28;01melse\u001b[39;00m:\n\u001b[1;32m    864\u001b[0m         \u001b[38;5;66;03m# Binary mode\u001b[39;00m\n\u001b[1;32m    865\u001b[0m         handle \u001b[38;5;241m=\u001b[39m \u001b[38;5;28mopen\u001b[39m(handle, ioargs\u001b[38;5;241m.\u001b[39mmode)\n",
      "\u001b[0;31mFileNotFoundError\u001b[0m: [Errno 2] No such file or directory: 'data1.csv'"
     ]
    }
   ],
   "source": [
    "def epsilon2(P_RF,a,P_SAT,b):\n",
    "    return a* np.sin(np.pi/2*np.sqrt((P_RF - b)/P_SAT))**2\n",
    "\n",
    "daten_a=pd.read_csv(\"data1.csv\")\n",
    "\n",
    "print(transform_pp_tomW(0.00318)/np.pi/2)\n",
    "\n",
    "daten_a_mW=transform_pp_tomW(daten_a[\"mVPP\"])\n",
    "\n",
    "x = np.linspace(0, 2000, 1000)\n",
    "\n",
    "#plt.plot(daten_a[\"mVPP\"], daten_a[\"0.Ordnung\"])\n",
    "#plt.plot(daten_a[\"mVPP\"], daten_a[\"1.Ordnung\"])\n",
    "\n",
    "popt_epsilon, pcov=sc.optimize.curve_fit(epsilon2, daten_a_mW, daten_a[\"1.Ordnung\"],  absolute_sigma='false', maxfev=10000, p0=[0.8,1000,0])\n",
    "# plt.plot(x, epsilon2(x, *[0.8, 1000, 0]))\n",
    "plt.plot(x, epsilon2(x, *popt_epsilon))\n",
    "\n",
    "plt.plot(daten_a_mW,daten_a[\"0.Ordnung\"], linestyle='none', marker=\".\", color=\"blue\", label=\"0th order\")\n",
    "plt.plot(daten_a_mW, daten_a[\"1.Ordnung\"], linestyle='', marker='.', color=\"orange\", label='1st order')\n",
    "plt.ylabel('$P$ (mW)')\n",
    "plt.xlabel(\"$P_{\\mathrm{RF}}$ (mW)\")\n",
    "plt.legend()\n",
    "plt.show()\n"
   ]
  },
  {
   "cell_type": "code",
   "execution_count": null,
   "metadata": {},
   "outputs": [],
   "source": []
  },
  {
   "cell_type": "markdown",
   "metadata": {},
   "source": [
    "# 3"
   ]
  },
  {
   "cell_type": "code",
   "execution_count": 13,
   "metadata": {},
   "outputs": [
    {
     "name": "stdout",
     "output_type": "stream",
     "text": [
      "Q Faktor ist  4.87+/-0.17\n"
     ]
    },
    {
     "name": "stderr",
     "output_type": "stream",
     "text": [
      "/tmp/ipykernel_10217/301872596.py:36: UserWarning: FigureCanvasPgf is non-interactive, and thus cannot be shown\n",
      "  plt.show()\n"
     ]
    }
   ],
   "source": [
    "daten3=pd.read_csv(\"data/data2.csv\")\n",
    "daten3.columns = [\"frequenz\", \"1.Ordnung\", \"Abstand(mm)\"]\n",
    "power=unp.uarray(daten3[\"1.Ordnung\"], [0.01]*len(daten3[\"1.Ordnung\"]))\n",
    "angle_distance_measure=unp.uarray(daten3[\"Abstand(mm)\"]/10, [0.1]*len(daten3[\"Abstand(mm)\"]))\n",
    "f0=80\n",
    "d4=u.ufloat(140,3)\n",
    "dges=d1+d2+d4\n",
    "#print(dges)\n",
    "def sinc2(F,a,Q,b):\n",
    "    return a*sinc(Q/4*F/b*(1-F/b))**2\n",
    "epsilon3=power/P0_after\n",
    "\n",
    "F=daten3[\"frequenz\"]\n",
    "\n",
    "angles_bragg=unp.arctan(angle_distance_measure/(2*dges))\n",
    "#print(angles_bragg)\n",
    "epsilon=daten3[\"1.Ordnung\"]/P0_after\n",
    "x=np.linspace(60,100,1000)\n",
    "popt3, pcov3=sc.optimize.curve_fit(sinc2, F, unp.nominal_values(epsilon3), sigma=unp.std_devs(epsilon3), absolute_sigma='true' ,p0=[0.8,5,80])\n",
    "#print(popt3)\n",
    "#print(np.sqrt(np.diag(pcov3)))\n",
    "fig, ax = plt.subplots(figsize=(7, 4.5))\n",
    "ax.errorbar(daten3[\"frequenz\"], unp.nominal_values(epsilon3),yerr=unp.std_devs(epsilon3), label='Datapoints', fmt=\".\", ecolor=\"k\", ms=10)\n",
    "ax.plot(x, sinc2(x, *popt3), label='Fit', zorder=0)\n",
    "\n",
    "ax.set_ylabel(\"$\\\\varepsilon$\")\n",
    "ax.set_xlabel(\"$f_\\mathrm{RF}\\ (\\mathrm{MHz})$\")\n",
    "\n",
    "ax.text(0.225, 0.64, \"$f(x) = a \\cdot \\mathrm{sinc}\\left( \\\\frac{Q}{4}\\\\frac{x}{f_0} \\left(1-\\\\frac{x}{f_0} \\\\right)\\\\right)^2 $\\n$a = 0.747(5) $\\n$ f_0 = 79.16(37)\\ \\mathrm{MHz} $\\n$Q = 4.87(17)$\", fontsize=12, verticalalignment='top', transform=ax.transAxes)\n",
    "rect = mpl.patches.FancyBboxPatch((0.225, 0.35), 0.42, 0.3, linewidth=1.5, edgecolor=\"C1\", facecolor=\"none\", transform=ax.transAxes, boxstyle=mpl.patches.BoxStyle(\"Round\", pad=0.02))\n",
    "ax.add_patch(rect)\n",
    "\n",
    "plt.legend()\n",
    "plt.tight_layout()\n",
    "plt.savefig(\"bilder/sincfit.pdf\", bbox_inches=\"tight\")\n",
    "plt.show()\n",
    "#plt.plot(daten3[\"frequenz\"], unp.nominal_values}(angles_bragg))\n",
    "#daten3\n",
    "Q1=u.ufloat(popt3[1], (np.sqrt(np.diag(pcov3)))[1])\n",
    "print(\"Q Faktor ist \", Q1)"
   ]
  },
  {
   "cell_type": "code",
   "execution_count": 15,
   "metadata": {},
   "outputs": [
    {
     "name": "stdout",
     "output_type": "stream",
     "text": [
      "[7.7697868e-05]\n",
      "[1.03417167e-06]\n"
     ]
    },
    {
     "name": "stderr",
     "output_type": "stream",
     "text": [
      "/tmp/ipykernel_10217/1175893621.py:21: UserWarning: FigureCanvasPgf is non-interactive, and thus cannot be shown\n",
      "  plt.show()\n"
     ]
    }
   ],
   "source": [
    "def linearfunction(x,a):\n",
    "    return a*x\n",
    "popt_gerade, pcov_gerade=sc.optimize.curve_fit(linearfunction, F, unp.nominal_values(angles_bragg), sigma=unp.std_devs(angles_bragg), absolute_sigma='true' )\n",
    "print(popt_gerade)\n",
    "\n",
    "fig, ax = plt.subplots(figsize=(7, 4.5))\n",
    "ax.errorbar(daten3[\"frequenz\"], unp.nominal_values(angles_bragg)*1000,yerr=unp.std_devs(angles_bragg)*1000, label='Datapoints', fmt='.', ecolor=\"k\", ms=10)\n",
    "ax.plot(x, linearfunction(x, *popt_gerade)*1000, label='Fit')\n",
    "\n",
    "ax.text(0.5, 0.3, \"$f(x)=k\\cdot x $\\n$ k = 0.78(3)\\ \\mathrm{mrad/MHz} $\", fontsize=12, verticalalignment='top', transform=ax.transAxes)\n",
    "rect = mpl.patches.FancyBboxPatch((0.5, 0.2), 0.27, 0.11, linewidth=1.5, edgecolor=\"C1\", facecolor=\"none\", transform=ax.transAxes, boxstyle=mpl.patches.BoxStyle(\"Round\", pad=0.02))\n",
    "ax.add_patch(rect)\n",
    "\n",
    "print(np.sqrt(np.diag(pcov_gerade)))\n",
    "\n",
    "ax.set_xlabel(\"$f_\\mathrm{RF}\\ (\\mathrm{MHz})$\")\n",
    "ax.set_ylabel(\"$\\\\theta_{\\mathrm{B}}\\ (\\mathrm{mrad})$\")\n",
    "plt.legend()\n",
    "plt.tight_layout()\n",
    "plt.savefig(\"bilder/braggwinkel.pdf\", bbox_inches=\"tight\")\n",
    "plt.show()"
   ]
  },
  {
   "cell_type": "code",
   "execution_count": 8,
   "metadata": {},
   "outputs": [],
   "source": [
    "mpl.use(\"pgf\")"
   ]
  },
  {
   "cell_type": "markdown",
   "metadata": {},
   "source": [
    "# 4"
   ]
  },
  {
   "cell_type": "code",
   "execution_count": 24,
   "metadata": {},
   "outputs": [
    {
     "name": "stdout",
     "output_type": "stream",
     "text": [
      "[0.79740462 4.45428036 0.78557896]\n",
      "[0.06065549 0.35828488 0.03142346]\n",
      "Q Faktor ist 4.5+/-0.4\n"
     ]
    },
    {
     "name": "stderr",
     "output_type": "stream",
     "text": [
      "/tmp/ipykernel_10217/2104329978.py:34: UserWarning: FigureCanvasPgf is non-interactive, and thus cannot be shown\n",
      "  plt.show()\n"
     ]
    }
   ],
   "source": [
    "daten4=pd.read_csv(\"data/data3.csv\")\n",
    "daten4\n",
    "first_order=unp.uarray(daten4[\"1.Ordnung\"], [0.01]*len(daten4[\"1.Ordnung\"]))\n",
    "ticks=unp.uarray(daten4[\"ticks\"], [0.5]*len(daten4[\"ticks\"]))\n",
    "\n",
    "epsilon4=first_order/P0_after\n",
    "radians=ticks/25/180*np.pi\n",
    "\n",
    "winkel=radians/bragg_angle\n",
    "\n",
    "def deltasinc(delta, a,Q, b):\n",
    "    return a*sinc(Q/4*(delta-b))**2\n",
    "popt_baldamende, pcov_baldamende=sc.optimize.curve_fit(deltasinc, unp.nominal_values(winkel), unp.nominal_values(epsilon4), sigma=unp.std_devs(winkel), absolute_sigma='true', p0=[0.8,1,1] )\n",
    "Q2=u.ufloat(popt_baldamende[1], (np.sqrt(np.diag(pcov_baldamende)))[1])\n",
    "winkelrange=np.arange(-3,5,0.01)\n",
    "\n",
    "fig, ax = plt.subplots(figsize=(7, 4.5))\n",
    "ax.errorbar(unp.nominal_values(winkel), unp.nominal_values(epsilon4), xerr=unp.std_devs(winkel), yerr=unp.std_devs(epsilon4), label='Datapoints', fmt=\".\", ecolor=\"k\", ms=10)\n",
    "ax.plot(winkelrange, deltasinc(winkelrange, *popt_baldamende), label='Fit')\n",
    "\n",
    "ax.set_xlabel(\"$\\\\textrm{Normalized angle difference } \\Delta$\")\n",
    "ax.set_ylabel(\"$\\\\varepsilon$\")\n",
    "print(popt_baldamende)\n",
    "print(np.sqrt(np.diag(pcov_baldamende)))\n",
    "\n",
    "ax.text(0.57, 0.82, \"$f(x)=a\\cdot \\mathrm{sinc}\\left( \\\\frac{Q}{4}\\left( \\Delta-b \\\\right)\\\\right)^2$\\n$a = 0.80(6) $\\n$Q =4.5(4) $\\n$b = 0.79(3) $\", fontsize=12, verticalalignment='top', transform=ax.transAxes)\n",
    "rect = mpl.patches.FancyBboxPatch((0.57, 0.55), 0.35, 0.27, linewidth=1.5, edgecolor=\"C1\", facecolor=\"none\", transform=ax.transAxes, boxstyle=mpl.patches.BoxStyle(\"Round\", pad=0.02))\n",
    "ax.add_patch(rect)\n",
    "print(\"Q Faktor ist\", Q2)\n",
    "\n",
    "plt.legend()\n",
    "plt.tight_layout()\n",
    "plt.savefig(\"bilder/deltasinc.pdf\", bbox_inches=\"tight\")\n",
    "plt.show()\n"
   ]
  },
  {
   "cell_type": "markdown",
   "metadata": {},
   "source": [
    "# 5"
   ]
  },
  {
   "cell_type": "code",
   "execution_count": 18,
   "metadata": {},
   "outputs": [],
   "source": [
    "daten5=pd.read_csv(\"data/data4.csv\")\n",
    "\n",
    "frequency=unp.uarray(daten5[\"Frequenz\"], [0]*len(daten5[\"Frequenz\"]))\n",
    "power5=unp.uarray(daten5[\"Power\"], [0.01]*len(daten5[\"Power\"]))\n",
    "daten5\n",
    "efficiency=power5/P0_after\n",
    "\n",
    "fig, ax = plt.subplots(figsize=(7, 4.5))\n",
    "ax.errorbar(unp.nominal_values(frequency),unp.nominal_values(efficiency), yerr=unp.std_devs(power5), fmt=\".\", label=\"Datapoints\", ecolor=\"k\", ms=10)\n",
    "\n",
    "ax.set_ylabel(\"$\\\\varepsilon$\")\n",
    "ax.set_xlabel(\"$f_\\mathrm{RF}\\ (\\mathrm{MHz})$\")\n",
    "\n",
    "plt.legend()\n",
    "plt.tight_layout()\n",
    "plt.savefig(\"bilder/plot5.pdf\", bbox_inches=\"tight\")\n"
   ]
  },
  {
   "cell_type": "code",
   "execution_count": null,
   "metadata": {},
   "outputs": [],
   "source": []
  }
 ],
 "metadata": {
  "kernelspec": {
   "display_name": "Python 3",
   "language": "python",
   "name": "python3"
  },
  "language_info": {
   "codemirror_mode": {
    "name": "ipython",
    "version": 3
   },
   "file_extension": ".py",
   "mimetype": "text/x-python",
   "name": "python",
   "nbconvert_exporter": "python",
   "pygments_lexer": "ipython3",
   "version": "3.11.8"
  }
 },
 "nbformat": 4,
 "nbformat_minor": 2
}
