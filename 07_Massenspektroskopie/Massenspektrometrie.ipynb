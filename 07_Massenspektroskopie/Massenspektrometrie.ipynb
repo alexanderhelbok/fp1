{
 "cells": [
  {
   "cell_type": "markdown",
   "id": "054e761b",
   "metadata": {},
   "source": [
    "# Datenauswertung Massenspektrometrie"
   ]
  },
  {
   "cell_type": "markdown",
   "id": "cf14eb37",
   "metadata": {},
   "source": [
    "import packages"
   ]
  },
  {
   "cell_type": "code",
   "id": "f88df7de",
   "metadata": {
    "ExecuteTime": {
     "end_time": "2024-05-13T08:16:10.367168Z",
     "start_time": "2024-05-13T08:16:09.282520Z"
    }
   },
   "source": [
    "import pandas as pd\n",
    "import matplotlib.pyplot as plt\n",
    "import numpy as np\n",
    "from scipy.optimize import curve_fit\n",
    "#Für Unsicherheiten\n",
    "from uncertainties import unumpy as unp\n",
    "from uncertainties import ufloat\n",
    "from uncertainties.umath import *"
   ],
   "outputs": [],
   "execution_count": 1
  },
  {
   "cell_type": "markdown",
   "id": "195e260d",
   "metadata": {},
   "source": [
    "Inhalt:\n",
    "1. Aufgabe \n",
    "2. Aufgabe\n",
    "3. Aufgabe\n",
    "4. Aufgabe "
   ]
  },
  {
   "cell_type": "markdown",
   "id": "d2c1d1e8",
   "metadata": {},
   "source": [
    "# Aufgabe 1"
   ]
  },
  {
   "cell_type": "markdown",
   "id": "49c13117",
   "metadata": {},
   "source": [
    "Für diese Aufgabe wurde Frischluft mit $2\\mathrm{\\frac{l}{min}}$ in das ”STOF”\n",
    "(”Selective reagent ion Time of Flight Mass Spectrometer”) gelassen und ein Spectrum wurde für etwa 5 Minuten und 20 Sekunden aufgenommen.\n",
    "Das Spectrum zeigt das zeitliche Mittel der vom MCP (\"micro channel plates\") gemessenen Spannung in Relation zu den jeweiligen Zeitdifferenzen zwischen dem Signal des MCPs und des Pulsers, also der TOF (\"Time of flight\") des Moleküls, dass das Signal am MCP auslöst. Die TOF hängt vom Masse-Ladungs-Verhältnis der Moleküle ab und das Signal des MCP ist direkt proportional zu der Anzahl der einfallenden Moleküle. Im Folgendem ist das aufgenommene Spectrum dargestellt. Zu beachten ist aber, dass das Spektrometer zum Zeitpunkt der Messung noch nicht kalibriert wurde."
   ]
  },
  {
   "cell_type": "code",
   "id": "c9d9da14",
   "metadata": {
    "ExecuteTime": {
     "end_time": "2024-05-13T08:16:10.614950Z",
     "start_time": "2024-05-13T08:16:10.368292Z"
    }
   },
   "source": [
    "#Daten einlesen\n",
    "data = np.genfromtxt(\"./Datenfuerauswertung/Aufgabe 6_1 5min.H5__Average_S0_B0_W0.txt\", delimiter=\"\\t\", skip_header=13)\n",
    "\n",
    "#Index des ersten Elements von mass finden das ungleich 0 ist\n",
    "index0 = 0\n",
    "\n",
    "while data[index0,0] == 0:\n",
    "        index0 = index0 + 1\n",
    "\n",
    "#Alle Datenpunkte mit Index < index0 aus Daten entfernen\n",
    "mass=data[index0:,0]        #Array mit den gemssenen Massen\n",
    "average=data[index0:,2]  #Array mit der am Detektor gemessener Spannung\n",
    "#Datenpunkt ergibt sich aus den Elementen mit gleichen Index von mass und average\n",
    "\n",
    "\n",
    "\n",
    "\n"
   ],
   "outputs": [
    {
     "ename": "FileNotFoundError",
     "evalue": "./Datenfuerauswertung/Aufgabe 6_1 5min.H5__Average_S0_B0_W0.txt not found.",
     "output_type": "error",
     "traceback": [
      "\u001B[0;31m---------------------------------------------------------------------------\u001B[0m",
      "\u001B[0;31mFileNotFoundError\u001B[0m                         Traceback (most recent call last)",
      "Cell \u001B[0;32mIn[2], line 2\u001B[0m\n\u001B[1;32m      1\u001B[0m \u001B[38;5;66;03m#Daten einlesen\u001B[39;00m\n\u001B[0;32m----> 2\u001B[0m data \u001B[38;5;241m=\u001B[39m \u001B[43mnp\u001B[49m\u001B[38;5;241;43m.\u001B[39;49m\u001B[43mgenfromtxt\u001B[49m\u001B[43m(\u001B[49m\u001B[38;5;124;43m\"\u001B[39;49m\u001B[38;5;124;43m./Datenfuerauswertung/Aufgabe 6_1 5min.H5__Average_S0_B0_W0.txt\u001B[39;49m\u001B[38;5;124;43m\"\u001B[39;49m\u001B[43m,\u001B[49m\u001B[43m \u001B[49m\u001B[43mdelimiter\u001B[49m\u001B[38;5;241;43m=\u001B[39;49m\u001B[38;5;124;43m\"\u001B[39;49m\u001B[38;5;130;43;01m\\t\u001B[39;49;00m\u001B[38;5;124;43m\"\u001B[39;49m\u001B[43m,\u001B[49m\u001B[43m \u001B[49m\u001B[43mskip_header\u001B[49m\u001B[38;5;241;43m=\u001B[39;49m\u001B[38;5;241;43m13\u001B[39;49m\u001B[43m)\u001B[49m\n\u001B[1;32m      4\u001B[0m \u001B[38;5;66;03m#Index des ersten Elements von mass finden das ungleich 0 ist\u001B[39;00m\n\u001B[1;32m      5\u001B[0m index0 \u001B[38;5;241m=\u001B[39m \u001B[38;5;241m0\u001B[39m\n",
      "File \u001B[0;32m~/Documents/fp1/.venv/lib/python3.11/site-packages/numpy/lib/npyio.py:1980\u001B[0m, in \u001B[0;36mgenfromtxt\u001B[0;34m(fname, dtype, comments, delimiter, skip_header, skip_footer, converters, missing_values, filling_values, usecols, names, excludelist, deletechars, replace_space, autostrip, case_sensitive, defaultfmt, unpack, usemask, loose, invalid_raise, max_rows, encoding, ndmin, like)\u001B[0m\n\u001B[1;32m   1978\u001B[0m     fname \u001B[38;5;241m=\u001B[39m os_fspath(fname)\n\u001B[1;32m   1979\u001B[0m \u001B[38;5;28;01mif\u001B[39;00m \u001B[38;5;28misinstance\u001B[39m(fname, \u001B[38;5;28mstr\u001B[39m):\n\u001B[0;32m-> 1980\u001B[0m     fid \u001B[38;5;241m=\u001B[39m \u001B[43mnp\u001B[49m\u001B[38;5;241;43m.\u001B[39;49m\u001B[43mlib\u001B[49m\u001B[38;5;241;43m.\u001B[39;49m\u001B[43m_datasource\u001B[49m\u001B[38;5;241;43m.\u001B[39;49m\u001B[43mopen\u001B[49m\u001B[43m(\u001B[49m\u001B[43mfname\u001B[49m\u001B[43m,\u001B[49m\u001B[43m \u001B[49m\u001B[38;5;124;43m'\u001B[39;49m\u001B[38;5;124;43mrt\u001B[39;49m\u001B[38;5;124;43m'\u001B[39;49m\u001B[43m,\u001B[49m\u001B[43m \u001B[49m\u001B[43mencoding\u001B[49m\u001B[38;5;241;43m=\u001B[39;49m\u001B[43mencoding\u001B[49m\u001B[43m)\u001B[49m\n\u001B[1;32m   1981\u001B[0m     fid_ctx \u001B[38;5;241m=\u001B[39m contextlib\u001B[38;5;241m.\u001B[39mclosing(fid)\n\u001B[1;32m   1982\u001B[0m \u001B[38;5;28;01melse\u001B[39;00m:\n",
      "File \u001B[0;32m~/Documents/fp1/.venv/lib/python3.11/site-packages/numpy/lib/_datasource.py:193\u001B[0m, in \u001B[0;36mopen\u001B[0;34m(path, mode, destpath, encoding, newline)\u001B[0m\n\u001B[1;32m    156\u001B[0m \u001B[38;5;250m\u001B[39m\u001B[38;5;124;03m\"\"\"\u001B[39;00m\n\u001B[1;32m    157\u001B[0m \u001B[38;5;124;03mOpen `path` with `mode` and return the file object.\u001B[39;00m\n\u001B[1;32m    158\u001B[0m \n\u001B[0;32m   (...)\u001B[0m\n\u001B[1;32m    189\u001B[0m \n\u001B[1;32m    190\u001B[0m \u001B[38;5;124;03m\"\"\"\u001B[39;00m\n\u001B[1;32m    192\u001B[0m ds \u001B[38;5;241m=\u001B[39m DataSource(destpath)\n\u001B[0;32m--> 193\u001B[0m \u001B[38;5;28;01mreturn\u001B[39;00m \u001B[43mds\u001B[49m\u001B[38;5;241;43m.\u001B[39;49m\u001B[43mopen\u001B[49m\u001B[43m(\u001B[49m\u001B[43mpath\u001B[49m\u001B[43m,\u001B[49m\u001B[43m \u001B[49m\u001B[43mmode\u001B[49m\u001B[43m,\u001B[49m\u001B[43m \u001B[49m\u001B[43mencoding\u001B[49m\u001B[38;5;241;43m=\u001B[39;49m\u001B[43mencoding\u001B[49m\u001B[43m,\u001B[49m\u001B[43m \u001B[49m\u001B[43mnewline\u001B[49m\u001B[38;5;241;43m=\u001B[39;49m\u001B[43mnewline\u001B[49m\u001B[43m)\u001B[49m\n",
      "File \u001B[0;32m~/Documents/fp1/.venv/lib/python3.11/site-packages/numpy/lib/_datasource.py:533\u001B[0m, in \u001B[0;36mDataSource.open\u001B[0;34m(self, path, mode, encoding, newline)\u001B[0m\n\u001B[1;32m    530\u001B[0m     \u001B[38;5;28;01mreturn\u001B[39;00m _file_openers[ext](found, mode\u001B[38;5;241m=\u001B[39mmode,\n\u001B[1;32m    531\u001B[0m                               encoding\u001B[38;5;241m=\u001B[39mencoding, newline\u001B[38;5;241m=\u001B[39mnewline)\n\u001B[1;32m    532\u001B[0m \u001B[38;5;28;01melse\u001B[39;00m:\n\u001B[0;32m--> 533\u001B[0m     \u001B[38;5;28;01mraise\u001B[39;00m \u001B[38;5;167;01mFileNotFoundError\u001B[39;00m(\u001B[38;5;124mf\u001B[39m\u001B[38;5;124m\"\u001B[39m\u001B[38;5;132;01m{\u001B[39;00mpath\u001B[38;5;132;01m}\u001B[39;00m\u001B[38;5;124m not found.\u001B[39m\u001B[38;5;124m\"\u001B[39m)\n",
      "\u001B[0;31mFileNotFoundError\u001B[0m: ./Datenfuerauswertung/Aufgabe 6_1 5min.H5__Average_S0_B0_W0.txt not found."
     ]
    }
   ],
   "execution_count": 2
  },
  {
   "cell_type": "code",
   "execution_count": null,
   "id": "16a9da24",
   "metadata": {},
   "outputs": [],
   "source": [
    "#Datebpunkte plotten\n",
    "plt.figure(figsize=(17/2.54, 9/2.54),dpi=150)\n",
    "plt.scatter(mass, average, label = 'Datenpunkte', s=1)\n",
    "plt.scatter(mass[np.argwhere(mass >= 18)[0].item():np.argwhere(mass >= 21)[0].item()], average[np.argwhere(mass >= 18)[0].item():np.argwhere(mass >= 21)[0].item()], label = 'Datenpunkte im Bereich der Masse von $\\mathrm{H_3O}+$', s=1, c=\"red\")\n",
    "plt.scatter(mass[np.argwhere(mass >= 236)[0].item():np.argwhere(mass >= 240.5)[0].item()], average[np.argwhere(mass >= 236)[0].item():np.argwhere(mass >= 240.5)[0].item()], label = 'Datenpunkte im Bereich der Masse von $\\mathrm{C_6H_5ClI}+$', s=1, c=\"green\")\n",
    "plt.xlabel('Masse pro Ladung [Th]')\n",
    "plt.ylabel('Spannung [mV]')\n",
    "plt.yscale('log')\n",
    "plt.title('gesamtes aufgenommenes Spectrum')\n",
    "plt.legend()"
   ]
  },
  {
   "cell_type": "markdown",
   "id": "2ffbfef5",
   "metadata": {},
   "source": [
    "Im oben gezeigten Diagramm sind die Bereiche des Spektrums farbig hervorgehoben in denen sich die Peaks von $\\mathrm{H_3O}+$ und $\\mathrm{C_6H_5ClI}+$ befinden. Die beiden Bereiche sind im Folgendem noch einmal gesondert dargestellt."
   ]
  },
  {
   "cell_type": "code",
   "execution_count": null,
   "id": "919a68c8",
   "metadata": {},
   "outputs": [],
   "source": [
    "#Datebpunkte plotten\n",
    "plt.figure(figsize=(17/2.54, 9/2.54),dpi=150)\n",
    "plt.scatter(mass[np.argwhere(mass >= 18)[0].item():np.argwhere(mass >= 21)[0].item()], average[np.argwhere(mass >= 18)[0].item():np.argwhere(mass >= 21)[0].item()], label = 'Datenpunkte', s=1, c=\"red\")\n",
    "plt.xlabel('Masse pro Ladung [Th]')\n",
    "plt.ylabel('Spannung [mV]')\n",
    "plt.yscale('log')\n",
    "plt.title('Spectrum im Bereich der Masse von $\\mathrm{H_3O}+$')\n",
    "plt.legend()"
   ]
  },
  {
   "cell_type": "markdown",
   "id": "394cc61f",
   "metadata": {},
   "source": [
    "Das Wasser Ion $\\mathrm{H_3O}+$ ist das sogenannte Primärion es wird zur Ionisation der Probe benötigt. Es ist der größte Bestandteil des gemessenen Gases und sorgt daher für den größten Peak im Spektrum. Oben ist der Bereich, in dem sich dieser Peak befindet, gesondert dargestellt.\n",
    "Der Theoriewert für die Masse des am häufigsten vorkommenden Isotops von $\\mathrm{H_3O}+$ ist $19\\mathrm{u}$, ein anderes häufig auftretendes Isotop hat eine um $2\\mathrm{u}$ höhere Masse. Nimmt man an, dass der höchste Peak im Spektrum zu $\\mathrm{H_3O}+$ gehört, dann sieht man, dass die Massenskala um ungefähr $0.5\\mathrm{u}$ verschoben ist, dann würde man einen Peak bei ungefähr $20.5\\mathrm{u}$ für das Isotop erwarten. Wie man sehen kann, befindet sich dort auch tatsächlich ein Peak, man kann sich also relativ sicher sein, dass diese beiden Peaks zu $\\mathrm{H_3O}+$ gehören."
   ]
  },
  {
   "cell_type": "code",
   "execution_count": null,
   "id": "e337d00d",
   "metadata": {},
   "outputs": [],
   "source": [
    "#Datebpunkte plotten\n",
    "plt.figure(figsize=(17/2.54, 9/2.54),dpi=150)\n",
    "plt.scatter(mass[np.argwhere(mass >= 236)[0].item():np.argwhere(mass >= 240.5)[0].item()], average[np.argwhere(mass >= 236)[0].item():np.argwhere(mass >= 240.5)[0].item()], label = 'Datenpunkte', s=1, c=\"green\")\n",
    "plt.xlabel('Masse pro Ladung [Th]')\n",
    "plt.ylabel('Spannung [mV]')\n",
    "plt.yscale('log')\n",
    "plt.title('Spectrum im Bereich der Masse von $\\mathrm{C_6H_5ClI}+$')\n",
    "plt.legend()"
   ]
  },
  {
   "cell_type": "markdown",
   "id": "a5338176",
   "metadata": {},
   "source": [
    "Neben dem ionisiertem Wasserdampf wird auch Chlor-Iod-Benzol $\\mathrm{C_6H_4ClI}+$ in das Spektrometer geführt. Die Masse des am häufigsten vorkommenden Ions von Chlor-Iod-Benzol $\\mathrm{C_6H_5ClI}+$ ist ungefähr $239\\mathrm{u}$. Die Massen der anderen 3 Isotope von Chlor-Iod-Benzol, die ausreichend oft vorkommen, um sie detekieren zu können, unterscheiden sich untereinander um jeweils mindestens $1\\mathrm{u}$, wobei das am zweithäufigsten vorkommenden Isotop um $2\\mathrm{u}$ schwerer ist als das häufigste. Diese von der Theorie vorgegebenen Eigenschaften des Chlor-Iod-Benzol passen gut zu den oben gezeigten Peaks, es dürfte sich hier also sehr wahrscheinlich um die Messwerte von Chlor-Iod-Benzol handeln."
   ]
  },
  {
   "cell_type": "markdown",
   "id": "fc8bada6",
   "metadata": {},
   "source": [
    "Trifft ein Chlor-Iod-Benzol Ion $\\mathrm{C_6H_5ClI}+$ auf ein anderes Molekül, dann kann es Fragmentieren, zum Beispiel in $\\mathrm{C_6H_5Cl}+$ mit Masse $112\\mathrm{u}$. Dieses Molekül sollte also auch relativ oft auftreten und messbar sein. $\\mathrm{C_6H_5Cl}+$ hat zwei, relativ häufig vorkommende, Isotope mit den Massen $113\\mathrm{u}$ und $114\\mathrm{u}$, wobei das schwere Isotop häufiger vorkommt. Es gibt auch andere Isotope, sie haben aber eine relative Häufigkeit von weniger als $2.1\\%$. Im Folgenden ist das Spektrum im Bereich der Masse von $\\mathrm{C_6H_5ClI}+$ dargestellt."
   ]
  },
  {
   "cell_type": "code",
   "execution_count": null,
   "id": "fce1e753",
   "metadata": {},
   "outputs": [],
   "source": [
    "#Datebpunkte plotten\n",
    "plt.figure(figsize=(17/2.54, 9/2.54),dpi=150)\n",
    "plt.scatter(mass[np.argwhere(mass >= 110.5)[0].item():np.argwhere(mass >= 113.5)[0].item()], average[np.argwhere(mass >= 110.5)[0].item():np.argwhere(mass >= 113.5)[0].item()], label = 'Datenpunkte', s=1)\n",
    "plt.xlabel('Masse pro Ladung [Th]')\n",
    "plt.ylabel('Spannung [mV]')\n",
    "plt.yscale('log')\n",
    "plt.title('Spectrum im Bereich der Masse von $\\mathrm{C_6H_5Cl}+$')\n",
    "plt.legend()"
   ]
  },
  {
   "cell_type": "markdown",
   "id": "88d52d75",
   "metadata": {},
   "source": [
    "Man sieht in dem gezeigten Bereich des Spektrums drei Peaks mit der Intensität und der Position, wie man sie von den $\\mathrm{C_6H_5Cl}+$ Isotopen relativ zueinander erwarten würde. Die absolute Position auf der unkalibrieten Skala stimmt auch ungefähr mit dem Theoriewert überein. Die Peaks gehören also sehr wahrscheinlich zu dem Fragment $\\mathrm{C_6H_5Cl}+$ von Chlor-Iod-Benzol."
   ]
  },
  {
   "cell_type": "markdown",
   "id": "3d8c0d10",
   "metadata": {},
   "source": [
    "Für folgende Messwerte wurden verschiedene Spannungen im TOF Massenspektrometer variiert. Als Erstes wurden Daten genommen, während die Spannung U-low um $100\\mathrm{V}$ im Vergleich zu den Messungen davor erhöht wurde und dann noch einmal nach dem U-low um $100\\mathrm{V}$ gesenkt wurde. Bei den beiden Messungen hatte U-low also einen um $200\\mathrm{V}$ verschiedenen Wert. U-low ist die letzte Spannung des Pulsers, sie ist also Teil der Spannung $U$ welche die Ionen beschleunigt und ihnen also die kinetische Energie $E_{kin}=mv^2/2=Uq$ gibt. Wobei die Ladung $q$ für alle hier gemessenen Ionen gleich 1 ist. Weil Ionen mit gleicher kinetischer Energie $E_{kin}$ und unterschiedlichen Masse $m$ unterschiedliche Geschwindigkeiten $v$ haben, lässt sich so über die Zeit die diese Ionen benötigen, um eine Strecke $l$ zurückzulegen, ihr Masse-zu-Ladungs-Verhältnis mit $\\frac{m}{q}=\\frac{2Ut^2}{l^2}$ bestimmen. U-low, als Teil der Spannung $U$, manipuliert damit indirekt die Messwerte für die Masse der Ionen, in dem es direkt die \"TOF\" $t$ beeinflusst, für die $t=l\\sqrt{\\frac{m}{2qU}}$ gilt. Das Datenauswertungsprogramm \"TofDAQ\", aus dem die Rohdaten für diese Datenauswertung genommen wurden, verwendet für die Berechnung der Werte der Massen aus der gemessenen \"TOF\" einen konstanten Faktor, der sich nicht an die verwendete Beschleunigungsspannung $U$ anpasst. Daher gilt für die Messwerte der Masse, dass sie kleiner werden, wenn U-low vergrößert wird. Dies veranschaulichen auch die folgenden Messwerte im Bereich der Masse von Chlor-Iod-Benzol."
   ]
  },
  {
   "cell_type": "code",
   "execution_count": null,
   "id": "de5a0b97",
   "metadata": {},
   "outputs": [],
   "source": [
    "#Daten für niedrigen U-low wert einlesen\n",
    "data0 = np.genfromtxt(\"./Datenfuerauswertung/2024-04-10_12h36m55_6_1_ulow_backplane_mcp.h5__Combined_S0_B0_W10_udrift-100.txt\", delimiter=\"\\t\", skip_header=13)\n",
    "\n",
    "mass0=data0[:,0]        #Array mit den gemssenen Massen\n",
    "average0=data0[:,2]  #Array mit der am Detektor gemessener Spannung\n",
    "#Datenpunkt ergibt sich aus den Elementen mit gleichen Index von mass0 und average0\n",
    "\n",
    "#Daten für höheren U-low wert einlesen\n",
    "data1 = np.genfromtxt(\"./Datenfuerauswertung/2024-04-10_12h36m55_6_1_ulow_backplane_mcp.h5__Combined_S0_B0_W10_udrift+100.txt\", delimiter=\"\\t\", skip_header=13)\n",
    "\n",
    "mass1=data1[:,0]        #Array mit den gemssenen Massen\n",
    "average1=data1[:,2]  #Array mit der am Detektor gemessener Spannung\n",
    "#Datenpunkt ergibt sich aus den Elementen mit gleichen Index von mass0 und average0\n",
    "\n"
   ]
  },
  {
   "cell_type": "code",
   "execution_count": null,
   "id": "99876720",
   "metadata": {},
   "outputs": [],
   "source": [
    "#Datebpunkte plotten\n",
    "plt.figure(figsize=(17/2.54, 9/2.54),dpi=150)\n",
    "plt.scatter(mass0[np.argwhere(mass0 >= 236)[0].item():np.argwhere(mass0 >= 240.5)[0].item()], average0[np.argwhere(mass0 >= 236)[0].item():np.argwhere(mass0 >= 240.5)[0].item()], label = 'Datenpunkte bei niedrigen U-low', s=1, c=\"red\")\n",
    "plt.scatter(mass1[np.argwhere(mass1 >= 236)[0].item():np.argwhere(mass1 >= 240.5)[0].item()], average1[np.argwhere(mass1 >= 236)[0].item():np.argwhere(mass1 >= 240.5)[0].item()], label = 'Datenpunkte bei hohen U-low', s=1, c=\"green\")\n",
    "plt.plot(mass0[np.argwhere(mass0 >= 236)[0].item():np.argwhere(mass0 >= 240.5)[0].item()], average0[np.argwhere(mass0 >= 236)[0].item():np.argwhere(mass0 >= 240.5)[0].item()], lw=0.5, c=\"red\")\n",
    "plt.plot(mass1[np.argwhere(mass1 >= 236)[0].item():np.argwhere(mass1 >= 240.5)[0].item()], average1[np.argwhere(mass1 >= 236)[0].item():np.argwhere(mass1 >= 240.5)[0].item()], lw = 0.5, c=\"green\")\n",
    "plt.xlabel('Masse pro Ladung [Th]')\n",
    "plt.ylabel('Spannung [mV]')\n",
    "plt.yscale('log')\n",
    "plt.title('Spectrum im bereich der Masse von Chlor-Iod-Benzol bei unterschiedlichen U-low ')\n",
    "plt.legend()"
   ]
  },
  {
   "cell_type": "markdown",
   "id": "e506938a",
   "metadata": {},
   "source": [
    "Man kann sehen, dass die Peaks von Chlor-Iod-Benzol bei der Messung mit höheren U-low tatsächlich bei niedrigeren Massen auftauchen. Für die folgenden Messungen wurde U-low wieder auf den Ursprünglichen Wert gestellt."
   ]
  },
  {
   "cell_type": "markdown",
   "id": "21113040",
   "metadata": {},
   "source": [
    "Als Nächstes wurde dasselbe mit der Spannung Ref. Backplane gemacht. Mit dem Unterschied, dass der Regler für Refl. Backplane nur um $\\pm10\\mathrm{V}$ geändert wurde. Die Spannung Ref. Backplane kehrt die Flugrichtung der Ionen nach einer freien Wegstrecke um und schickt sie wieder über eine freie Wegstrecke zum Detektor. Wir sie erhöht, geschieht diese Richtungsumkehr schneller und die TOF wird verringert, was wie oben erklärt zu einem kleineren Messwert für die Masse führt. Die Messwerte im Bereich der Masse von Chlor-Iod-Benzol bei diesmal unterschiedlichen Refl. Backplane-Spannungen sind im Folgenden dargestellt."
   ]
  },
  {
   "cell_type": "code",
   "execution_count": null,
   "id": "a9511000",
   "metadata": {},
   "outputs": [],
   "source": [
    "#Daten für niedrigen Backplane wert einlesen\n",
    "data0 = np.genfromtxt(\"./Datenfuerauswertung/2024-04-10_12h36m55_6_1_ulow_backplane_mcp.h5__Combined_S0_B0_W10_Backplane-10.txt\", delimiter=\"\\t\", skip_header=13)\n",
    "\n",
    "mass0=data0[:,0]        #Array mit den gemssenen Massen\n",
    "average0=data0[:,2]  #Array mit der am Detektor gemessener Spannung\n",
    "#Datenpunkt ergibt sich aus den Elementen mit gleichen Index von mass0 und average0\n",
    "\n",
    "#Daten für höheren Backplane wert einlesen\n",
    "data1 = np.genfromtxt(\"./Datenfuerauswertung/2024-04-10_12h36m55_6_1_ulow_backplane_mcp.h5__Combined_S0_B0_W10_Backplane+10.txt\", delimiter=\"\\t\", skip_header=13)\n",
    "\n",
    "mass1=data1[:,0]        #Array mit den gemssenen Massen\n",
    "average1=data1[:,2]  #Array mit der am Detektor gemessener Spannung\n",
    "#Datenpunkt ergibt sich aus den Elementen mit gleichen Index von mass0 und average0\n"
   ]
  },
  {
   "cell_type": "code",
   "execution_count": null,
   "id": "7189b049",
   "metadata": {},
   "outputs": [],
   "source": [
    "#Datebpunkte plotten\n",
    "plt.figure(figsize=(17/2.54, 9/2.54),dpi=150)\n",
    "plt.scatter(mass0[np.argwhere(mass0 >= 236)[0].item():np.argwhere(mass0 >= 240.5)[0].item()], average0[np.argwhere(mass0 >= 236)[0].item():np.argwhere(mass0 >= 240.5)[0].item()], label = 'Datenpunkte bei niedrigen Refl. Backplane', s=1, c=\"red\")\n",
    "plt.scatter(mass1[np.argwhere(mass1 >= 236)[0].item():np.argwhere(mass1 >= 240.5)[0].item()], average1[np.argwhere(mass1 >= 236)[0].item():np.argwhere(mass1 >= 240.5)[0].item()], label = 'Datenpunkte bei hohen Refl. Backplane', s=1, c=\"green\")\n",
    "plt.plot(mass0[np.argwhere(mass0 >= 236)[0].item():np.argwhere(mass0 >= 240.5)[0].item()], average0[np.argwhere(mass0 >= 236)[0].item():np.argwhere(mass0 >= 240.5)[0].item()], lw=0.5, c=\"red\")\n",
    "plt.plot(mass1[np.argwhere(mass1 >= 236)[0].item():np.argwhere(mass1 >= 240.5)[0].item()], average1[np.argwhere(mass1 >= 236)[0].item():np.argwhere(mass1 >= 240.5)[0].item()], lw = 0.5, c=\"green\")\n",
    "plt.xlabel('Masse pro Ladung [Th]')\n",
    "plt.ylabel('Spannung [mV]')\n",
    "plt.yscale('log')\n",
    "plt.title('Spectrum im bereich der Masse von Chlor-Iod-Benzol bei unterschiedlichen Refl. Backplane ')\n",
    "plt.legend()"
   ]
  },
  {
   "cell_type": "markdown",
   "id": "de370c3a",
   "metadata": {},
   "source": [
    "Die Peaks für Chlor-Iod_Benzol verschieben sich also tatsächlich zu kleineren Massen für stärker Refl. Backplane-Spannungen. Für die Folgende Messung wurde Die Refl. Backplane-Spannung wieder auf den Ursprünglichen Wert eingestellt."
   ]
  },
  {
   "cell_type": "markdown",
   "id": "fe3b2ff4",
   "metadata": {},
   "source": [
    "Die gleiche Vorgehensweise wie bei der Messung bei unterschiedlichen U-low wurde für die nächste Messung wiederholt, mit dem Unterschied, dass anstatt U-low die MCP-Spannung variiert wurde. MCP liegt in dem Bereich an, in dem sich auch der MCP-Detektor befindet. Die MCP-Spannung beschleunigt also die Ionen noch einmal, bevor sie detektiert werden. Damit verkleinert eine höhere MCP-Spannung die TOF, was den bereits erläuterten Einfluss auf den Messwert der Masse hat. Aber sie könnte auch einen Einfluss auf die Wahrscheinlichkeit, dass ein Ion ein Elektron aus der Wand der Channels des MCP löst und damit Detektiert wird, haben. Im Folgenden sind wieder die Messwerte im Bereich der Masse von Chlor-Iod-Benzol bei diesmal verschiedenen MCP-Spannungen dargestellt."
   ]
  },
  {
   "cell_type": "code",
   "execution_count": null,
   "id": "578e4441",
   "metadata": {},
   "outputs": [],
   "source": [
    "#Daten für niedrigen MCP wert einlesen\n",
    "data0 = np.genfromtxt(\"./Datenfuerauswertung/2024-04-10_12h47m00_6_1_mcp_minus_100.h5__Combined_S0_B0_W6.txt\", delimiter=\"\\t\", skip_header=13)\n",
    "\n",
    "mass0=data0[:,0]        #Array mit den gemssenen Massen\n",
    "average0=data0[:,2]  #Array mit der am Detektor gemessener Spannung\n",
    "#Datenpunkt ergibt sich aus den Elementen mit gleichen Index von mass0 und average0\n",
    "\n",
    "#Daten für höheren MCP wert einlesen\n",
    "data1 = np.genfromtxt(\"./Datenfuerauswertung/2024-04-10_12h36m55_6_1_ulow_backplane_mcp.h5__Combined_S0_B0_W10_MCP+100.txt\", delimiter=\"\\t\", skip_header=13)\n",
    "\n",
    "mass1=data1[:,0]        #Array mit den gemssenen Massen\n",
    "average1=data1[:,2]  #Array mit der am Detektor gemessener Spannung\n",
    "#Datenpunkt ergibt sich aus den Elementen mit gleichen Index von mass0 und average0\n"
   ]
  },
  {
   "cell_type": "code",
   "execution_count": null,
   "id": "28173ad0",
   "metadata": {},
   "outputs": [],
   "source": [
    "#Datebpunkte plotten\n",
    "plt.figure(figsize=(17/2.54, 9/2.54),dpi=150)\n",
    "plt.scatter(mass0[np.argwhere(mass0 >= 236)[0].item():np.argwhere(mass0 >= 241.5)[0].item()], average0[np.argwhere(mass0 >= 236)[0].item():np.argwhere(mass0 >= 241.5)[0].item()], label = 'Datenpunkte bei niedrigen MCP-Spannung', s=1, c=\"red\")\n",
    "plt.scatter(mass1[np.argwhere(mass1 >= 236)[0].item():np.argwhere(mass1 >= 241.5)[0].item()], average1[np.argwhere(mass1 >= 236)[0].item():np.argwhere(mass1 >= 241.5)[0].item()], label = 'Datenpunkte bei hohen MCP-Spannung', s=1, c=\"green\")\n",
    "plt.plot(mass0[np.argwhere(mass0 >= 236)[0].item():np.argwhere(mass0 >= 241.5)[0].item()], average0[np.argwhere(mass0 >= 236)[0].item():np.argwhere(mass0 >= 241.5)[0].item()], lw=0.5, c=\"red\")\n",
    "plt.plot(mass1[np.argwhere(mass1 >= 236)[0].item():np.argwhere(mass1 >= 241.5)[0].item()], average1[np.argwhere(mass1 >= 236)[0].item():np.argwhere(mass1 >= 241.5)[0].item()], lw = 0.5, c=\"green\")\n",
    "plt.xlabel('Masse pro Ladung [Th]')\n",
    "plt.ylabel('Spannung [mV]')\n",
    "plt.yscale('log')\n",
    "plt.title('Spectrum im bereich der Masse von Chlor-Iod-Benzol bei unterschiedlicher MCP-Spannung ')\n",
    "plt.legend(fontsize='x-small')"
   ]
  },
  {
   "cell_type": "markdown",
   "id": "d7c9f8e3",
   "metadata": {},
   "source": [
    "Wie erwartet verschiebt eine größere MCP-Spannung die Peaks von Chlor-Iod-Benzol zu niedrigeren Massen. Man kann auch eine kleine Ändereung in der Höhe der Peaks erkennen. Ein Höhere MCP-Spannung scheint also tatsächlich die Empfindlichkeit der MCP-Detektoren zu erhöhen. "
   ]
  },
  {
   "cell_type": "markdown",
   "id": "353fcf31",
   "metadata": {},
   "source": [
    "Als Nächstes wurde sichergestellt, dass alle Spannungen des TOF-Spektrometers wieder auf ihre ursprünglichen Werte gestellt sind. Dann wurde das die Skala der Massen kalibriert. Dafür wurden drei Peaks im Spektrum ausgesucht, von denen man die Ionen, die den Peak verursachen, schon kennt. Wir kennen bereits die Position der Peaks von $\\mathrm{H3O}+$, $\\mathrm{C_6H_5ClI}+$ und dessen Fragment $\\mathrm{C_6H_5Cl}$+ auf unserer unkalibrierten Skala. Aufgrund dessen, dass die Peaks von $\\mathrm{C_6H_5ClI}+$ und $\\mathrm{C_6H_5Cl}$+ sich mit ausreichender Intensität gut von dem Hintergrundsignal abheben, eignen sie sich gut für die Kalibrierung. Der Peak von $\\mathrm{H3O}+$ aber hat eine sehr unregelmäßige Form, das liegt daran, dass $\\mathrm{H3O}+$ in einer so hohen Konsentration in der Probe vorkommt, sodass die Totzeit der MCP-Channels relativ zur Zählrate zu groß wird und dadurch die Anzahl der Counts einbricht. Für den dritten Peak wurde deshalb der Peak von Sauerstoff $\\mathrm{O_2}+$ ausgewählt. Dadurch, dass man weiß, dass der Sauerstoffanteil der Luft sehr groß ist und dass die Massenskala um etwa $0.5\\mathrm{u}$ und $1\\mathrm{u}$ verschoben ist, weiß man, dass der Peak bei der Masse $31.35\\mathrm{u}$ zu $\\mathrm{O_2}+$ mit der Masse von ungefähr $32\\mathrm{u}$ gehören muss. Mit diesen drei Molekülen wurde dann die Massenskala im Datenauswertungsprogramm \"TofDAQ\" kalibriert."
   ]
  },
  {
   "cell_type": "markdown",
   "id": "ae297929",
   "metadata": {},
   "source": [
    "Als Nächstes soll die Messunsicherheit der Isotopenverhältnisse von Chlor-Iod-Benzol und den Primärionen abgeschätzt werden. Dazu wurde die 5-minütige Messung in einminütige Messungen aufgeteilt. Über die Schwankung der Messwerte dieser Messungen kann dann die Unsicherheit der einminütigen Messung abgeschätzt werden. Im Folgenden ist der Messwert des Isotopenverhältnissen der Isotope von $\\mathrm{C_6H_5ClI}+$ mit den Massen $239\\mathrm{u}$ und $242\\mathrm{u}$ dargestellt. Diese Isotope wurden gewählt, weil sie jeweils die einzigen Isotope mit deren Masse sind. Zur Veranschaulichung, die besagten Peaks sind im bereits gezeigten Diagramm \"Spectrum im Bereich der Masse von $\\mathrm{C_6H_5ClI}+$\" auf der noch unkalibrierten Massenskalar dargestellt."
   ]
  },
  {
   "cell_type": "code",
   "execution_count": null,
   "id": "6df4b4e4",
   "metadata": {},
   "outputs": [],
   "source": [
    "#Arrays für die Messwerte initialisieren\n",
    "rawA_1=np.zeros(5)\n",
    "rawA_2=np.zeros(5)\n",
    "ratio=np.zeros(5)\n",
    "\n",
    "#1. Messung\n",
    "rawA_1[0]=8.34926 * 10 #cps erstes Isotop mit 239u\n",
    "rawA_2[0]=4.14616 #cps zweites Isotop mit 242u\n",
    "#2. Messung\n",
    "rawA_1[1]=8.50846 * 10 #cps erstes Isotop mit 239u\n",
    "rawA_2[1]=4.25665 #cps zweites Isotop mit 242u\n",
    "#3. Messung\n",
    "rawA_1[2]=8.56065 * 10 #cps erstes Isotop mit 239u\n",
    "rawA_2[2]=4.28429 #cps zweites Isotop mit 242u\n",
    "#4. Messung\n",
    "rawA_1[3]=8.52668 * 10 #cps erstes Isotop mit 239u\n",
    "rawA_2[3]=4.48185#cps zweites Isotop mit 242u\n",
    "#5. Messung\n",
    "rawA_1[4]=8.63831 * 10 #cps erstes Isotop mit 239u\n",
    "rawA_2[4]=4.74352#cps zweites Isotop mit 242u\n",
    "\n",
    "rawA_1 = ufloat(np.average(rawA_1), np.std(rawA_1)/np.sqrt(5)) #Messwert für die cps des Isotops mit 239u, mit Standartfehler als Messunsicherheit\n",
    "rawA_2 = ufloat(np.average(rawA_2), np.std(rawA_2)/np.sqrt(5)) #Messwert für die cps des Isotops mit 242u, mit Standartfehler als Messunsicherheit\n",
    "\n",
    "print('cps für das Isotop mit Masse 239u =', rawA_1)\n",
    "print('cps für das Isotop mit Masse 242u =', rawA_2)\n",
    "\n",
    "ratio = rawA_2 / rawA_1 #Berrechnung des Messwerts für das Verhältnis das Isotopenverhältnis\n",
    "\n",
    "print('Isotopenverhältnis=', ratio)"
   ]
  },
  {
   "cell_type": "markdown",
   "id": "7e5cb94e",
   "metadata": {},
   "source": [
    "Der Literaturwert für das Isotopenverhältnis zwischen dem Chlor-Benzol-Iod mit $239\\mathrm{u}$ und dem mit $242\\mathrm{u}$ ist $2.1\\%$. Gemessen wurden $5.1(1)\\%$. Damit liegen Mess- und Literatur viel zu weit auseinander um unter der Beachtung statistischer Schwankungen vereinbar zu sein. Grund dafür könnten systematische Fehler sein, die wir ignoriert haben. Den größten Beitrag zu einem systematischen Fehler könnte die Transmission der Chlor-Benzol-Iod-Ionen leisten. Sie ist uns nicht bekannt und wir haben sie implizit mit $100\\%$ angenommen, das muss aber nicht sein, vor allem könnte die Transmission unterschiedlich für die betrachteten Ionen sein. Ein weiteres Problem, dass sich der Peak des schwereren Isotops nur sehr leicht von dem Hintergrundsignal abhebt, dadurch könnte das Fitprogramm das Auswertungsprogramm systematische Fehler verursachen, die wir nicht beachtet haben."
   ]
  },
  {
   "cell_type": "markdown",
   "id": "9c9f20ae",
   "metadata": {},
   "source": [
    "Die Messung wurde auf genau gleicherweise mit dem Primärion $\\mathrm{H_3O}$ wiederholt. Die Isotope von $\\mathrm{H_3O}$ haben die Masse $19\\mathrm{u}$ und $21\\mathrm{u}$. Dieses Mal wurden also die Intensitäten der Peaks bei diesen Massen untersucht. Die besagten Peaks wurden schon im Diagramm \"Spectrum im Bereich der Masse von $\\mathrm{H_3O}+$\" auf der noch unkalibrierten Skalar dargestellt."
   ]
  },
  {
   "cell_type": "code",
   "execution_count": null,
   "id": "89c5480c",
   "metadata": {},
   "outputs": [],
   "source": [
    "#Arrays für die Messwerte initialisieren\n",
    "rawA_1=np.zeros(5)\n",
    "rawA_2=np.zeros(5)\n",
    "ratio=np.zeros(5)\n",
    "\n",
    "#1. Messung\n",
    "rawA_1[0]=3.0809 * 10 **4 #cps erstes Isotop mit 19u\n",
    "rawA_2[0]=7.66591 * 10 **2#cps zweites Isotop mit 21u\n",
    "#2. Messung\n",
    "rawA_1[1]=3.08079 * 10 **4 #cps erstes Isotop mit 19u\n",
    "rawA_2[1]=7.66342 * 10 **2 #cps zweites Isotop mit 21u\n",
    "#3. Messung\n",
    "rawA_1[2]=3.08034 * 10 **4 #cps erstes Isotop mit 19u\n",
    "rawA_2[2]=7.69694 * 10**2 #cps zweites Isotop mit 21u\n",
    "#4. Messung\n",
    "rawA_1[3]=3.08174 * 10**4 #cps erstes Isotop mit 19u\n",
    "rawA_2[3]=7.76725 * 10**2#cps zweites Isotop mit 21u\n",
    "#5. Messung\n",
    "rawA_1[4]=3.08219 * 10 **4#cps erstes Isotop mit 19u\n",
    "rawA_2[4]=7.74399 * 10 **2#cps zweites Isotop mit 21u\n",
    "\n",
    "rawA_1 = ufloat(np.average(rawA_1), np.std(rawA_1)/np.sqrt(5)) #Messwert für die cps des Isotops mit 19u, mit Standartfehler als Messunsicherheit\n",
    "rawA_2 = ufloat(np.average(rawA_2), np.std(rawA_2)/np.sqrt(5)) #Messwert für die cps des Isotops mit 21u, mit Standartfehler als Messunsicherheit\n",
    "\n",
    "print('cps für das Isotop mit Masse 19u =', rawA_1)\n",
    "print('cps für das Isotop mit Masse 21u =', rawA_2)\n",
    "\n",
    "ratio = rawA_2 / rawA_1 #Berrechnung des Messwerts für das Verhältnis das Isotopenverhältnis\n",
    "\n",
    "print('Isotopenverhältnis=', ratio)"
   ]
  },
  {
   "cell_type": "markdown",
   "id": "bfa75355",
   "metadata": {},
   "source": [
    "Der Literaturwert für das Isotopenverhältnis von $\\mathrm{H_3O}$ beträgt $2\\%$. Unser gemessener Wert liegt mit %2.5\\%$ scheinbar nahe an diesem Wert, jedoch schwanken die Werte bei solch hohen Zählraten viel weniger, was zu einem viel geringeren Standardfehler von $0.00006\\%$ führt. Der Messwert des Isotopenverhältnisses der Primärionen ist als viel ungenauer als der für das Chlor-Iod-Benzol. Dies liegt wahrscheinlich daran, dass die $19\\mathrm{u}$ Ionen derart häufig auftreten, sodass die Totzeit der MCP-Channels relevant wird. Dies wurde aber bei der Datenauswertung unbeachtet gelassen der Messwert für die Anzahl der $19\\mathrm{u}$ Ionen ist also zu gering. Für das schwerere Isotop tritt dieses Problem nicht auf, das lässt uns dann ein zu großes Verhältnis zwischen den beiden Isotopen messen."
   ]
  },
  {
   "cell_type": "markdown",
   "id": "a08bcd26",
   "metadata": {},
   "source": [
    "### Aufgabe 2\n",
    "Kallibration mit Eichgas"
   ]
  },
  {
   "cell_type": "markdown",
   "id": "ced5b068",
   "metadata": {},
   "source": [
    "Einstellungen:\n",
    "Udrift\n"
   ]
  },
  {
   "cell_type": "markdown",
   "id": "81a04bf1",
   "metadata": {},
   "source": [
    "### Aufgabe 3"
   ]
  },
  {
   "cell_type": "markdown",
   "id": "7c4139a1",
   "metadata": {},
   "source": [
    "Einleitung\n",
    "\n",
    "Massenspektrometrie hat einen breiten Anwendungsbereich, von Analyse von Luftproben in der Umwelttechnik bis zum Nachweis von\n",
    "unerlaubten Substanzen in der Dopinganalytik (https://www.dshs-koeln.de/institut-fuer-biochemie/doping-substanzen/dopinganalytik-ueberblick/). Um die Masse von Molekülen und Ionen zu bestimmen, werden diese in \n",
    "gasförmigen Zustand gebracht, ionisiert und beschleunigt, damit anhand der Flugzeit das Masse zu Ladungsverhältnis bestimmt\n",
    "werden kann. \n",
    "In diesem Versuch wird sich mit Massenspektrometer vertraut gemacht, durch Ändern der verschiedenen Parameter des Spektrometers\n",
    "wie Beschleunigungs- und Extraktionsspannung beispielsweise, sowie Verwendung verschiedener Gase wie Raumluft, Atemluft und\n",
    "Eichgas.\n",
    "\n",
    "Theorie\n",
    "\n",
    "Die Analyse von Substanzen im Massenspektrometer läuft anhand von vier Schritten ab, dem Probeeinlass, der Ionisation, der \n",
    "Massenanalyse und der Detektion. Zunächst werden die Proben in gasförmigen Zustand gebracht, und anhand einer Kapillare aus\n",
    "dem Athmosphärendruckumfeld in das Unterdruck Vakuum transferiert. Danach werden die Moleküle mit H3O+ Ionen (Primärionen)\n",
    "kollidiert, welche das target-Molekül ionisieren. Für die Ionisation gibt es auch alternative Methoden wie die\n",
    "Elektronenionisation, jedoch wird in diesem Versuch eine Proton-Transfer-Reaktion (PTR) verwendet. \n",
    "Wichtig für die zu untersuchenden Moleküle ist hier, \n",
    "dass diese eine höhere Protonaffinität als die Primärionen haben, da die Ionisation sonst nicht stattfinden kann.  \n",
    "Die drift-Spannung U_drift beschleunigt die Ionen für den Masseanalysator, während U_ql diese stabilisiert, um ein besseres\n",
    "Signal zu erreichen, siehe Abbildung 1.\n",
    "In diesem Experiment wird ein Flugzeit-Massenspektrometer (TOF-MS) verwendet, was bedeutet das der Massenanalysator die \n",
    "Abhängigkeit der Flugzeit der Moleküle zu ihrem Masse- zu Ladungsverhältnis verwendet, um die verschiedenen Massen zu \n",
    "unterscheiden. Im Massenanalysator werden die Moleküle werden durch gepulste Spannungen beschleunigt und umgelenkt, \n",
    "treffen daraufhin auf das Reflektron, und werden anschliesend vom Detektor gemessen. Der Massenanalysator verwendet also \n",
    "die Energieerhaltung, da die unterschiedlichen Massen der zu unterschiedlichen Geschwindigkeiten, und somit Flugzeiten führen.\n",
    "Zuletzt werden die Ionen an Mikrokanalplatten (MCP) detektiert, wodurch Masse und counts per second (CPS) bestimmt werden \n",
    "können.\n",
    "\n",
    "\n",
    "\n",
    "Aufbau\n",
    "\n",
    "Das PTR-TOF Massenspektrometer der Universität Innsbruck wurde während des gesamten Versuchs verwendet.\n",
    "Zunächst wurde Raumluft für Versuch 6.1 in das Massenspektrometer eingelassen, gefolgt von Eichgas für Versuche 6.2 und 6.3,\n",
    "und letztlich Atemluft eines Studenten mit und ohne Kaubonbon für Versuch 6.4 ."
   ]
  },
  {
   "cell_type": "markdown",
   "id": "138ed42c",
   "metadata": {},
   "source": [
    "Aufgabe 6.2 a) Es werden 2 Stoffe als Beispiele identifiziert mit abgezogenen Hintergrundsignal"
   ]
  },
  {
   "cell_type": "markdown",
   "id": "e72f8cd4",
   "metadata": {},
   "source": [
    "![Image Title](6_2a.png)\n",
    "\n",
    "a)\n",
    "In dieser Abbildung sieht man ein Beispiel für die Gase dimethyl sulfide und methyl vinyl ketone bei 100% Eichgas Einlass, welche als rote Peaks im oberen Spektrum erkennbar sind. Es fällt auf, dass die Peaks um ca. 1 amu nach rechts verschoben sind, da nach Protontrasfer die Masse von dimethyl sulfide 63.027 amu und die Masse von methyl vinyl ketone 71.049 betragen soll, jedoch im Spektrum Massen von 63.9 amu sowie 72.0 amu auftauchen. Dies ist erstaunlich, da zusammen mit der Supervisorin das Gerät zuvor massenkalibriert wurde, und jetzt bereits einen systematischen offset hat. Für die Auswertung im folgenden wurde neben Dimethyl Sulfide und Methyl Vinyl Ketone auch noch Acetonitril verwendet, mit einer molaren Masse nach Protontrasfer von 42.034 amu. "
   ]
  },
  {
   "cell_type": "markdown",
   "id": "e1e82bb8",
   "metadata": {},
   "source": [
    "b) Sensitivität der Stoffe und Limit of detection"
   ]
  },
  {
   "cell_type": "code",
   "execution_count": null,
   "id": "fffca52e",
   "metadata": {},
   "outputs": [],
   "source": [
    "# Daten definieren\n",
    "eichgas_konzentration = np.array([10, 30, 50, 75, 100])\n",
    "\n",
    "# Da im Eichgas alle Moleküle mit unterschiedlicher Konzentration vorkommen, müssen wir um die Sensitivität zu ermitteln\n",
    "# die reale Konzentration durch die Eichgas-konzentration ermitteln, was in den nächsten 3 Zeilen geschieht\n",
    "\n",
    "ppb_acetonitril = eichgas_konzentration * 990 / 100\n",
    "ppb_dimethylsulfide = eichgas_konzentration * 960 / 100\n",
    "ppb_methyl_vinyl = eichgas_konzentration * 980 / 100\n",
    "\n",
    "# Diese Werte wurden in TOFDOQ bestimmt, es wurde das hintergrundspektrum abgezogen, und mit dem Peakparameter tool\n",
    "# die RawArea unter den peaks für unsere Moleküle abgelesen. \n",
    "dimethylsulfide_cps = np.array([1.998e-1, 1.789, 8.823, 2.658e1, 4.051e1])\n",
    "methyl_vinyl_ketone_cps = np.array([1.23e1, 4.67e1, 5.92e1, 3.95e1, 4.275e1])\n",
    "acetonitril = np.array([8.40, 3.97e1, 4.7e1, 4.5e1, 5.15e1])\n",
    "\n",
    "# Fehler berechnen (5% der y-Werte)\n",
    "# 5% wurde gewählt, da die linke und rechte Grenze des Peaks im Spektrum nicht immer eindeutig war. Außerdem wurden\n",
    "# Durchschnitte der Intervalle für jeweils 60 sekunden für die Peaks verwendet, wobei Zeitabweichungen andere \n",
    "# CPS Werte produzieren, was auch durch die 5% Fehler kompensiert werden soll\n",
    "dimethylsulfide_error = 0.05 * dimethylsulfide_cps\n",
    "methyl_vinyl_ketone_error = 0.05 * methyl_vinyl_ketone_cps\n",
    "acetonitril_error = 0.05 * acetonitril\n",
    "\n",
    "# Lineare Regression durchführen\n",
    "# Die Steigung soll die Sensitivität ergeben in cps/ppb \n",
    "m_ds, b_ds = np.polyfit(ppb_dimethylsulfide, dimethylsulfide_cps, 1)\n",
    "m_mvk, b_mvk = np.polyfit(ppb_methyl_vinyl, methyl_vinyl_ketone_cps, 1)\n",
    "m_an, b_an = np.polyfit(ppb_acetonitril, acetonitril, 1)\n",
    "\n",
    "# Plotten\n",
    "plt.figure(figsize=(10, 6))  # Größe des Plots festlegen\n",
    "plt.errorbar(ppb_dimethylsulfide, dimethylsulfide_cps, yerr=dimethylsulfide_error, fmt='o', label='Dimethylsulfide', color='blue')\n",
    "plt.errorbar(ppb_methyl_vinyl, methyl_vinyl_ketone_cps, yerr=methyl_vinyl_ketone_error, fmt='o', label='Methyl Vinyl Ketone', color='red')\n",
    "plt.errorbar(ppb_acetonitril, acetonitril, yerr=acetonitril_error, fmt='o', label='Acetonitrile', color='orange')\n",
    "\n",
    "# Lineare Regression einzeichnen\n",
    "plt.plot(ppb_dimethylsulfide, m_ds * ppb_dimethylsulfide + b_ds, linestyle='--', color='blue', label=f'Dimethylsulfide: y = {m_ds:.2f}x + {b_ds:.2f}')\n",
    "plt.plot(ppb_methyl_vinyl, m_mvk * ppb_methyl_vinyl + b_mvk, linestyle='--', color='red', label=f'Methyl Vinyl Ketone: y = {m_mvk:.2f}x + {b_mvk:.2f}')\n",
    "plt.plot(ppb_acetonitril, m_an * ppb_acetonitril + b_an, linestyle='--', color='orange', label=f'Acetonitrile: y = {m_an:.2f}x + {b_an:.2f}')\n",
    "\n",
    "# Beschriftungen hinzufügen\n",
    "plt.xlabel(' Konzentration in ppb')\n",
    "plt.ylabel('CPS')\n",
    "plt.title('CPS vs. Konzentration')\n",
    "plt.legend()\n",
    "\n",
    "# Plot anzeigen\n",
    "plt.grid(True)\n",
    "plt.show()"
   ]
  },
  {
   "cell_type": "markdown",
   "id": "bde65190",
   "metadata": {},
   "source": [
    "Die in der Legende der Abbildung gefundenen Steigungen der Geraden sind die Werte der Sensitivität in cps/ppb für die 3 Moleküle\n",
    "Dimethylsulfide folgt einem linearen Trend, welcher bei steigender Konzentration des Eichgasgemisches zu erwarten ist. Jedoch ist sehr offensichtlich, das vorallem bei Eichgaskonzentrationen von 30% und 50% bei Methyl Vinyl Ketone und Dimethylsulfide, in der Abbildung zwischen 200 und 600 ppb erkennbar. Es fällt uns schwer eine Erklärung dafür zu finden, da der Eingang des Eichgases durch die Software prozentual geregelt wird, und wir langsam das Gasgemisch zu exakt 10%, 30%, 50%, 75% und 100% Eichgas erhöht haben. Das Problem muss also in den durch die Peakparameter ermittelten Signalwerten liegen, wobei die 300ppm und 500 ppm Datenpunkte für die CPS methodisch genau gleich abgelesen wurden wie anderen Punkte."
   ]
  },
  {
   "cell_type": "code",
   "execution_count": null,
   "id": "d2b7d4e7",
   "metadata": {},
   "outputs": [],
   "source": [
    "# Berechne Unsicherheiten der Konstanten\n",
    "dimethylsulfide_slope_error = np.sqrt(np.mean(dimethylsulfide_error ** 2)) / np.sqrt(np.sum((ppb_dimethylsulfide - np.mean(ppb_dimethylsulfide)) ** 2))\n",
    "methyl_vinyl_ketone_slope_error = np.sqrt(np.mean(methyl_vinyl_ketone_error ** 2)) / np.sqrt(np.sum((ppb_methyl_vinyl - np.mean(ppb_methyl_vinyl)) ** 2))\n",
    "acetonitril_slope_error = np.sqrt(np.mean(acetonitril_error ** 2)) / np.sqrt(np.sum((ppb_acetonitril - np.mean(ppb_acetonitril)) ** 2))\n",
    "\n",
    "# Ausgabe der Unsicherheiten der Konstanten\n",
    "print(f\"Dimethylsulfide Slope Error: {dimethylsulfide_slope_error:.4f}\")\n",
    "print(f\"Methyl Vinyl Ketone Slope Error: {methyl_vinyl_ketone_slope_error:.4f}\")\n",
    "print(f\"Acetonitril Slope Error: {acetonitril_slope_error:.4f}\")"
   ]
  },
  {
   "cell_type": "code",
   "execution_count": null,
   "id": "7ca3cadc",
   "metadata": {},
   "outputs": [],
   "source": [
    "#standardabweichung finden um LOD zu finden, verwendung des Hintergrundsignals\n",
    "# Es wird der berech von 190-210 Th verwendet, weil es dort keine Peaks gibt, also kann man die Standardabweichung\n",
    "# vom Hintergrundrauschen bestimmen\n",
    "\n",
    "gas=pd.read_csv(\"2024-04-10_13h32m02.h5__Combined_S0_B1_W70.txt\", skiprows = 13, sep=\"\\t\") \n",
    "# Zum erfolgreichen Einlesen des Txt files muss das Zeichen $\\mu$ gelöscht werden, weil das file sonst nicht lesbar ist \n",
    "gas.head()\n",
    "#print(gas)\n",
    "mass= gas.iloc[:,0].values\n",
    "signal= gas.iloc[:,2].values\n",
    "#print(mass)\n",
    "#print(signal)\n",
    "\n",
    "#Filtern\n",
    "#verwenden intervall von 190 bis 210 für die berechnung der standardabweichung\n",
    "min_value=190\n",
    "max_value=210\n",
    "gefilterte_masse= [] # platzhalter liste\n",
    "gefilterte_index = []\n",
    "for index, value in enumerate(mass):     #enrumerate verwenden damit man index bekommt\n",
    "    if value > min_value and value < max_value:\n",
    "        gefilterte_masse.append(value)\n",
    "        gefilterte_index.append(index)\n",
    "    \n",
    "gefilterte_masse=np.array(gefilterte_masse)"
   ]
  },
  {
   "cell_type": "code",
   "execution_count": null,
   "id": "0b0c036f",
   "metadata": {},
   "outputs": [],
   "source": [
    "# Standardabweihung des Signals berechnen\n",
    "gefilterte_signale=[]\n",
    "for index, value in enumerate(signal):\n",
    "    if index in gefilterte_index:\n",
    "        gefilterte_signale.append(value)\n",
    "\n",
    "gefilterte_signale=np.array(gefilterte_signale)\n",
    "print(len(gefilterte_signale))\n",
    "standard_deviation = np.std(gefilterte_signale)\n",
    "print(\"Standardabweichung in cps\", standard_deviation)"
   ]
  },
  {
   "cell_type": "code",
   "execution_count": null,
   "id": "d7434d5c",
   "metadata": {},
   "outputs": [],
   "source": [
    "dimeth= unp.uarray(0.05,0.0016)\n",
    "methyl=unp.uarray(0.02,0.0031)\n",
    "azeto=unp.uarray(0.04,0.0029)\n",
    "\n",
    "\n",
    "\n",
    "lod_dimeth= 2* standard_deviation/dimeth\n",
    "lod_methyl= 2*standard_deviation/methyl\n",
    "lod_azeto=2*standard_deviation/azeto\n",
    "\n",
    "print(\"LOD von dimethyl sulfide in cps/ppb \",lod_dimeth)\n",
    "print(\"LOD von methyl vinyl ketone in cps/ppb \",lod_methyl)\n",
    "print(\"LOD von acetonitril in cps/ppb \",lod_azeto)"
   ]
  },
  {
   "cell_type": "markdown",
   "id": "85ccdabd",
   "metadata": {},
   "source": [
    "Hier sieht man die erreichten Werte für das Limit of Detection für unsere Moleküle."
   ]
  },
  {
   "cell_type": "markdown",
   "id": "bad73071",
   "metadata": {
    "vscode": {
     "languageId": "bat"
    }
   },
   "source": [
    "c) Das Limit of Detection kann verbessert werden in dem man die Standardabweichung senkt, oder die Sensitivität erhöht. Konkret bedeutet genauere Detektoren beispielsweise, um das Hintergrundrauschen und somit die Standardabweichung zu minimieren. Im Skript ist einer der Abhängigkeiten der Sensitivität die Transmission durch den Hochvakuum bereich, man könnte beispielsweise die verschiedenen Spannungen optimieren."
   ]
  },
  {
   "cell_type": "code",
   "execution_count": null,
   "id": "b953b006",
   "metadata": {},
   "outputs": [],
   "source": [
    "# R bestimmen für acetonitrile\n",
    "gas=pd.read_csv(\"delta_m_berechnen.txt\", skiprows = 13, sep=\"\\t\") \n",
    "# Zum erfolgreichen Einlesen des Txt files muss das Zeichen $\\mu$ gelöscht werden, weil das file sonst nicht lesbar ist \n",
    "#gas.head()\n",
    "#print(gas)\n",
    "mass= gas.iloc[:,0].values\n",
    "signal= gas.iloc[:,2].values\n",
    "#print(mass)\n",
    "#print(signal)\n",
    "\n",
    "\n",
    "#Filtern\n",
    "#Selbe funktion wie oben, bei 100% Eichgas \n",
    "min_value=42.68\n",
    "max_value=42.82\n",
    "gefilterte_masse= [] # platzhalter liste\n",
    "gefilterte_index = []\n",
    "for index, value in enumerate(mass):     #enrumerate verwenden damit man index bekommt\n",
    "    if value > min_value and value < max_value:\n",
    "        gefilterte_masse.append(value)\n",
    "        gefilterte_index.append(index)\n",
    "    \n",
    "gefilterte_masse=np.array(gefilterte_masse)\n",
    "\n",
    "gefilterte_signale=[]\n",
    "for index, value in enumerate(signal):\n",
    "    if index in gefilterte_index:\n",
    "        gefilterte_signale.append(value)\n",
    "\n",
    "gefilterte_signale=np.array(gefilterte_signale)\n",
    "print(len(gefilterte_signale))\n",
    "import numpy as np\n",
    "import matplotlib.pyplot as plt\n",
    "from scipy.optimize import curve_fit\n",
    "\n",
    "# Gauß-Funktion für die Fit\n",
    "def gauss(x, A, mu, sigma):\n",
    "    return A * np.exp(-(x - mu)**2 / (2 * sigma**2))\n",
    "\n",
    "# Fit der Gauß-Kurve\n",
    "popt, pcov = curve_fit(gauss, gefilterte_masse, gefilterte_signale, p0=[max(gefilterte_signale), np.mean(gefilterte_masse), np.std(gefilterte_masse)])\n",
    "\n",
    "# Berechnung der Full Width at Half Maximum (FWHM)\n",
    "FWHM = 2 * np.sqrt(2 * np.log(2)) * popt[2]\n",
    "\n",
    "# Plot der gefilterten Masse und des gefilterten Signals\n",
    "plt.figure(figsize=(10, 6))\n",
    "plt.scatter(gefilterte_masse, gefilterte_signale, label='Gefilterte Signale', color='blue')\n",
    "plt.plot(gefilterte_masse, gauss(gefilterte_masse, *popt), color='red', label=f'Gauß-Kurve (FWHM: {FWHM:.4f})')\n",
    "plt.xlabel(' Masse in amu')\n",
    "plt.ylabel(' Signale in mV')\n",
    "plt.title('Acetonitril')\n",
    "plt.legend()\n",
    "plt.grid(True)\n",
    "plt.show()\n",
    "\n",
    "\n",
    "perr = np.sqrt(np.diag(pcov))\n",
    "FWHM_error = 2 * np.sqrt(2 * np.log(2)) * perr[2]\n",
    "\n",
    "# Fehler \n",
    "value_error = 0.0002\n",
    "\n",
    "# Berechnung der Resolution\n",
    "R = 42.73 / FWHM\n",
    "R_error = R * np.sqrt((value_error / 72.1)**2 + (FWHM_error / FWHM)**2)\n",
    "\n",
    "print(f\"FWHM: {FWHM:.4f} ± {FWHM_error:.4f}\")\n",
    "print(f\"Resolution: {R:.4f} ± {R_error:.4f}\")"
   ]
  },
  {
   "cell_type": "code",
   "execution_count": null,
   "id": "c557b034",
   "metadata": {},
   "outputs": [],
   "source": [
    "# R bestimmen für dimethyl sulfide\n",
    "gas=pd.read_csv(\"delta_m_berechnen.txt\", skiprows = 13, sep=\"\\t\") \n",
    "# Zum erfolgreichen Einlesen des Txt files muss das Zeichen $\\mu$ gelöscht werden, weil das file sonst nicht lesbar ist \n",
    "#gas.head()\n",
    "#print(gas)\n",
    "mass= gas.iloc[:,0].values\n",
    "signal= gas.iloc[:,2].values\n",
    "#print(mass)\n",
    "#print(signal)\n",
    "\n",
    "\n",
    "#Filtern\n",
    "#Selbe funktion wie oben, bei 100% Eichgas \n",
    "min_value=63.86\n",
    "max_value=64\n",
    "gefilterte_masse= [] # platzhalter liste\n",
    "gefilterte_index = []\n",
    "for index, value in enumerate(mass):     #enrumerate verwenden damit man index bekommt\n",
    "    if value > min_value and value < max_value:\n",
    "        gefilterte_masse.append(value)\n",
    "        gefilterte_index.append(index)\n",
    "    \n",
    "gefilterte_masse=np.array(gefilterte_masse)\n",
    "\n",
    "gefilterte_signale=[]\n",
    "for index, value in enumerate(signal):\n",
    "    if index in gefilterte_index:\n",
    "        gefilterte_signale.append(value)\n",
    "\n",
    "gefilterte_signale=np.array(gefilterte_signale)\n",
    "print(len(gefilterte_signale))\n",
    "import numpy as np\n",
    "import matplotlib.pyplot as plt\n",
    "from scipy.optimize import curve_fit\n",
    "\n",
    "# Gauß-Funktion für die Fit\n",
    "def gauss(x, A, mu, sigma):\n",
    "    return A * np.exp(-(x - mu)**2 / (2 * sigma**2))\n",
    "\n",
    "# Fit der Gauß-Kurve\n",
    "popt, pcov = curve_fit(gauss, gefilterte_masse, gefilterte_signale, p0=[max(gefilterte_signale), np.mean(gefilterte_masse), np.std(gefilterte_masse)])\n",
    "\n",
    "# Berechnung der Full Width at Half Maximum (FWHM)\n",
    "FWHM = 2 * np.sqrt(2 * np.log(2)) * popt[2]\n",
    "\n",
    "# Plot der gefilterten Masse und des gefilterten Signals\n",
    "plt.figure(figsize=(10, 6))\n",
    "plt.scatter(gefilterte_masse, gefilterte_signale, label='Gefilterte Signale', color='blue')\n",
    "plt.plot(gefilterte_masse, gauss(gefilterte_masse, *popt), color='red', label=f'Gauß-Kurve (FWHM: {FWHM:.4f})')\n",
    "plt.xlabel(' Masse in amu')\n",
    "plt.ylabel('Signale in mV')\n",
    "plt.title('Dimethyl sulfide')\n",
    "plt.legend()\n",
    "plt.grid(True)\n",
    "plt.show()\n",
    "\n",
    "\n",
    "perr = np.sqrt(np.diag(pcov))\n",
    "FWHM_error = 2 * np.sqrt(2 * np.log(2)) * perr[2]\n",
    "\n",
    "# Fehler von 72.1\n",
    "value_error = 0.0002\n",
    "\n",
    "# Berechnung der Resolution\n",
    "R = 63.90 / FWHM\n",
    "R_error = R * np.sqrt((value_error / 72.1)**2 + (FWHM_error / FWHM)**2)\n",
    "\n",
    "print(f\"FWHM: {FWHM:.4f} ± {FWHM_error:.4f}\")\n",
    "print(f\"Resolution: {R:.4f} ± {R_error:.4f}\")"
   ]
  },
  {
   "cell_type": "code",
   "execution_count": null,
   "id": "da5960fe",
   "metadata": {},
   "outputs": [],
   "source": [
    "# R bestimmen für methyl vinyl ketone\n",
    "gas=pd.read_csv(\"delta_m_berechnen.txt\", skiprows = 13, sep=\"\\t\") \n",
    "# Zum erfolgreichen Einlesen des Txt files muss das Zeichen $\\mu$ gelöscht werden, weil das file sonst nicht lesbar ist \n",
    "#gas.head()\n",
    "#print(gas)\n",
    "mass= gas.iloc[:,0].values\n",
    "signal= gas.iloc[:,2].values\n",
    "#print(mass)\n",
    "#print(signal)\n",
    "\n",
    "\n",
    "#Filtern\n",
    "#Selbe funktion wie oben, bei 100% Eichgas \n",
    "min_value=71.93\n",
    "max_value=72.08\n",
    "gefilterte_masse= [] # platzhalter liste\n",
    "gefilterte_index = []\n",
    "for index, value in enumerate(mass):     #enrumerate verwenden damit man index bekommt\n",
    "    if value > min_value and value < max_value:\n",
    "        gefilterte_masse.append(value)\n",
    "        gefilterte_index.append(index)\n",
    "    \n",
    "gefilterte_masse=np.array(gefilterte_masse)\n",
    "\n",
    "gefilterte_signale=[]\n",
    "for index, value in enumerate(signal):\n",
    "    if index in gefilterte_index:\n",
    "        gefilterte_signale.append(value)\n",
    "\n",
    "gefilterte_signale=np.array(gefilterte_signale)\n",
    "print(len(gefilterte_signale))\n",
    "import numpy as np\n",
    "import matplotlib.pyplot as plt\n",
    "from scipy.optimize import curve_fit\n",
    "\n",
    "# Gauß-Funktion für die Fit\n",
    "def gauss(x, A, mu, sigma):\n",
    "    return A * np.exp(-(x - mu)**2 / (2 * sigma**2))\n",
    "\n",
    "# Fit der Gauß-Kurve\n",
    "popt, pcov = curve_fit(gauss, gefilterte_masse, gefilterte_signale, p0=[max(gefilterte_signale), np.mean(gefilterte_masse), np.std(gefilterte_masse)])\n",
    "\n",
    "# Berechnung der Full Width at Half Maximum (FWHM)\n",
    "FWHM = 2 * np.sqrt(2 * np.log(2)) * popt[2]\n",
    "\n",
    "# Plot der gefilterten Masse und des gefilterten Signals\n",
    "plt.figure(figsize=(10, 6))\n",
    "plt.scatter(gefilterte_masse, gefilterte_signale, label='Gefilterte Signale', color='blue')\n",
    "plt.plot(gefilterte_masse, gauss(gefilterte_masse, *popt), color='red', label=f'Gauß-Kurve (FWHM: {FWHM:.4f})')\n",
    "plt.xlabel('Masse in amu')\n",
    "plt.ylabel('Signale in mV')\n",
    "plt.title('Methyl vinyl ketone')\n",
    "plt.legend()\n",
    "plt.grid(True)\n",
    "plt.show()\n",
    "\n",
    "perr = np.sqrt(np.diag(pcov))\n",
    "FWHM_error = 2 * np.sqrt(2 * np.log(2)) * perr[2]\n",
    "\n",
    "# Fehler von 72.1\n",
    "value_error = 0.0002\n",
    "\n",
    "# Berechnung der Resolution\n",
    "R = 72.1 / FWHM\n",
    "R_error = R * np.sqrt((value_error / 72.1)**2 + (FWHM_error / FWHM)**2)\n",
    "\n",
    "print(f\"FWHM: {FWHM:.4f} ± {FWHM_error:.4f}\")\n",
    "print(f\"Resolution: {R:.4f} ± {R_error:.4f}\")"
   ]
  },
  {
   "cell_type": "markdown",
   "id": "2fb7b0e6",
   "metadata": {},
   "source": [
    "Es wurde die Full Width at half maximum (FWHM) verwendet um die Massenauflösung zu bestimmen. Im TOFDAQ wird die Resolution für den ausgewählten Peak angezeigt, welche bei Methyl vinyl ketone beispielsweise 1641.1 beträgt. Dies liegt im Rahmen der absoluten Unsicherheit unseres Messwerts was positiv für die Präzision unserer Berechnung spricht, ist jedoch sehr abhängig von dem zeitlichen Intervall was in TOFDOQ gewählt wird. Eine Veränderung im ausgewählten Zeitintervall kann sogar die orangenen, bewegbaren Peak Start-und Endpunkte des peak parameter tools verschieben, was sich auf die von der Software berechnete FWHM auswirkt. \n",
    "In unserem Versuch lässt sich keine Beziehung zwischen Resolution und LOD erkennen. Von der technischen Perspektive sollte eine geringere Massenauflösung dazu führen, das massen schlechter unterschieden werde können, wodurch es schwieriger wird ein Signal vom Hintergrundrauschen zu unterscheiden, was zu einem höheren LOD führen würde, was jedoch hier nicht gezeigt werden konnte. "
   ]
  },
  {
   "cell_type": "markdown",
   "id": "607f10a4",
   "metadata": {},
   "source": [
    "d) Es treten nichtlinearitäten auf, Wie im Plot CPS/Konzentration von oben ersichtbar. Besonders zwschen 200ppb und 600ppb steigen die CPS für Dimethyl Sulfide und Methyl Vinyl Ketone stark an, während das Signal von Acetonitril linear ansteigt. Da die Protonaffinitäten von Dimethyl Sulfide (830 kJ/mol laut NIST https://webbook.nist.gov/cgi/inchi?ID=C75183&Mask=20) und Methyl Vinyl Ketone (834kJ/mol https://webbook.nist.gov/cgi/cbook.cgi?ID=C78944&Mask=20) größer sind als die von Acetonitril (779kJ/ mol https://webbook.nist.gov/cgi/cbook.cgi?ID=C75058&Mask=20) ist auch eine höhere Ionisationseffizienz, und folglich auch Sensitivität zu erwarten. Wieso jedoch für Konzentrationen von mehr als 600ppb das Signal für Dimethyl und Methyl wieder sinkt, ist für uns nicht erklärlich, und folglich muss ein Fehler im ablesen der CPS von den Peaks passiert sein.\n",
    "\n",
    "e) Für die Berechnung der reaktionszeit fehlt für die im Skript gegebene Formel die Reaktionstemperatur, der Druck ist anfangs des Skripts gegeben durch 10e-5 bis 10e-6 mbar. \n",
    "\n"
   ]
  },
  {
   "cell_type": "markdown",
   "id": "6f65b2bd",
   "metadata": {},
   "source": [
    "## Aufgabe 6.4"
   ]
  },
  {
   "cell_type": "markdown",
   "id": "723407b7",
   "metadata": {},
   "source": [
    "a) Bei welchen Massen sieht man Signale in der Atemluft? Das in Tofdoq aufgezeichnete Spektrum wurde durchkämmt, \n",
    "und geschaut bei welchen Massen es Ausschläge gibt. Bei der Messung des normalen Ein-und Ausatmens tretten Massen\n",
    "wie beispielsweise 19,37,55,59,69,77,89,91,117,123,137,186 amu auf. Wenn man das Spektrum des normalen Ein-und Ausatmens mit\n",
    "dem Kaubonbon-Spektrum vergleicht, erkennt man durch verwenden des Ein-Ausatme-Spektrums neue Massen, wie beispielsweise 43,47,83 und 131 amu, welche den neuen Molekülen zuzuschreiben sind. Interessanterweise sieht man auch eine höheres Vorkommen bei bestimmten Molekülen in dem Spektrum mit Kaubonbon, welche auch im Spektrum ohne Bonbon auftreten, beispielsweise 75,101,117 amu. Dies könnte eventuell an einer höheren, durchschnittlichen Luftausstoßrate liegen. Alternativ könnten auch im BonBon Moleküle mit gleicher molarer Masse durch das Kauen freigesetzt worden sein, welche auch in der Atemluft vorhanden sind. Falls diese Moleküle eine hohe Protonaffinität haben, würde das Signal steigen. Interessant ist auch die unterschiedlichen Resolutionen zwischen während des Ausatmens für Peaks mit-und ohne Kaubonbon. Diese sind nicht konsistent in beiden Atem szenarien, und reichen von 1600 bis zu 60000 für das Ausatmen. Eine hohe Auflösung notewending ist für eine hohe Massengenauigkeit, deswegen ist es schwieriger die Moleküle im für solche Ausatmungen zu unterscheiden. \n",
    "\n",
    "\n",
    "\n",
    "\n"
   ]
  },
  {
   "cell_type": "markdown",
   "id": "0d5da985",
   "metadata": {},
   "source": [
    "b) Es soll die Konzentration von Isopren bestimmt werden, dafür werden Signal und Sensitivität verwendet. Das Signal wird für Isopren ändert sich nicht zwischen Ein-und Ausatmen, deswegen wurde der Durchschnitt der rawA über das ganze Spektrum verwendet. 7e1 csp bei der Atmung ohne Bonbon und 6.8e1 bei der Atmung mit Bonbon wurden ermittelt. Da die Sensitivität von Isopren sich anhand unserer Messdaten nicht wie in 6.2) bestimmen lassen kann, müssen wir eine alternative Sensitivität verwenden. Die Protonaffinität von Isopren (826 kJ/mol, https://webbook.nist.gov/cgi/cbook.cgi?ID=C78795&Mask=20) ist sehr nahe an Dimethyl Sulfide (830 kj/mol, https://webbook.nist.gov/cgi/inchi?ID=C75183&Mask=20), und da die änliche Protonaffinität eine änliche Ionisierungs effizienz bedeutet, und somit auch Sensitivität, wird in diesem Versuch die Sensitivität von Dimethyl Sulfide für Isoprene verwendet. \n"
   ]
  },
  {
   "cell_type": "code",
   "execution_count": null,
   "id": "4ed12072",
   "metadata": {},
   "outputs": [],
   "source": [
    "A = 0.05\n",
    "B = 7e1\n",
    "\n",
    "concentration = B / A\n",
    "uncertainty_A = 0.0016\n",
    "uncertainty_B = 0.05 * B / 100\n",
    "\n",
    "# Partielle Ableitungen\n",
    "dC_dA = -B / (A ** 2)\n",
    "dC_dB = 1 / A\n",
    "\n",
    "# Unsicherheit der Konzentration berechnen- Gaus fehlerfortpflanzung\n",
    "concentration_error = np.sqrt((dC_dA * uncertainty_A) ** 2 + (dC_dB * uncertainty_B) ** 2)\n",
    "\n",
    "# Ergebnis mit Unsicherheit\n",
    "result = unp.uarray(concentration, concentration_error)\n",
    "\n",
    "print(\"Konzentration mit Unsicherheit in ppm:\", result)\n"
   ]
  },
  {
   "cell_type": "markdown",
   "id": "a61748fd",
   "metadata": {},
   "source": [
    "Dieser Wert ist ca. zehn mal höher als der durchschnittliche Wert eines gesunden, durschnittlichen Menschen laut Bajtarevic et al. (105ppm, https://link.springer.com/content/pdf/10.1186/1471-2407-9-348.pdf). Das war zu erwarten, da wie in 6.2) erklärt die Sensitivität von Dimethyl leider nicht akkurat ist, und somit auch die Kozentration von Isopren in diesem Teil nicht realistisch ist. "
   ]
  },
  {
   "cell_type": "markdown",
   "id": "5115bc16",
   "metadata": {},
   "source": [
    "c) \n",
    "![Image Title](ethanol_ausatmen_bonbon.png)"
   ]
  },
  {
   "cell_type": "markdown",
   "id": "2e14a55a",
   "metadata": {
    "vscode": {
     "languageId": "bat"
    }
   },
   "source": [
    "Die Identifizierung der unbekannten Peaks ist nicht sehr sicher. Beispielsweise wurde in dieser Abbildung Ethanol identifiziert, jedoch gibt es mehrere Moleküle mit dieser molaren Masse, bestehend aus H,C,N,O,S. Theoretisch hätte diese Masse auch zu NO2 gepasst, welches auch in der Luft vorhanden ist. Es kann jedoch nicht NO2 sein, da die Protonaffinität dieses Moleküls kleiner ist als die von Wasser, weswegen es im PTR-TOF-MS  mit H30+ Primärionen nicht angezeigt wird. Ethanol ist jedoch auch fragwürdig, da \"alkoholfrei\" auf MAOAMs draufsteht, es eigentlich also keine ethanol moleküle geben sollte. Eventuell ist dieses also ein Fraktal durch die Ionisation.\n",
    "Anhand der bekannten molaren Massen der Inhaltstoffe von Maoam gezielt nach Peaks zu suchen hat auch schwierigkeiten, beispielsweise ist der Bestandteil Sacchrose, mit seiner molarenmasse von 342 amu (https://de.wikipedia.org/wiki/Saccharose) gar nicht im Spektum auflösbar. Für andere Inhaltsstoffe wie Sorbitol (molare masse 182 kJ/ mol) konnte die Protonenaffinität durch recherche nicht gefunden werden und es ist kein Peak bei 183 amu vorhanden. Dieses Molekül hat also entweder eine zu kleine Protoaffinität oder fraktiert während der Ionisation. Für eine sichere Identifizierung wäre wissen über die beinhalteten Moleküle, mögliche chemische Reaktionen (Speichel-Maoam),die Protonaffinität der Moleküle und deren Ionisationsverhalten (Fraktale) wichtig. \n"
   ]
  },
  {
   "cell_type": "markdown",
   "id": "8448436a",
   "metadata": {},
   "source": [
    "Wenn zwei peaks überlappen, und näher als delta_m (von FWHM) aneinander sind, kann man diese nicht unterscheiden. Es braucht also eine hohe Massenauflösung damit monoisotopische massen sichtbar werden. \n"
   ]
  }
 ],
 "metadata": {
  "kernelspec": {
   "display_name": "Python 3 (ipykernel)",
   "language": "python",
   "name": "python3"
  },
  "language_info": {
   "codemirror_mode": {
    "name": "ipython",
    "version": 3
   },
   "file_extension": ".py",
   "mimetype": "text/x-python",
   "name": "python",
   "nbconvert_exporter": "python",
   "pygments_lexer": "ipython3",
   "version": "3.8.10"
  }
 },
 "nbformat": 4,
 "nbformat_minor": 5
}
